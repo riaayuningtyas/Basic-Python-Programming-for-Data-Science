{
  "nbformat": 4,
  "nbformat_minor": 0,
  "metadata": {
    "colab": {
      "name": "0301_List,_String_&_Dictionary.ipynb",
      "provenance": [],
      "collapsed_sections": [],
      "toc_visible": true,
      "include_colab_link": true
    },
    "kernelspec": {
      "name": "python3",
      "display_name": "Python 3"
    }
  },
  "cells": [
    {
      "cell_type": "markdown",
      "metadata": {
        "id": "view-in-github",
        "colab_type": "text"
      },
      "source": [
        "<a href=\"https://colab.research.google.com/github/riaayuningtyas/Basic-Python-Programming-for-Data-Science/blob/main/List%20String%20%26%20Dictionary.ipynb\" target=\"_parent\"><img src=\"https://colab.research.google.com/assets/colab-badge.svg\" alt=\"Open In Colab\"/></a>"
      ]
    },
    {
      "cell_type": "markdown",
      "metadata": {
        "id": "z4A1mfUYu7qg"
      },
      "source": [
        "![alt text](https://drive.google.com/uc?id=1Jnmc3tPdh1jxyNwURPKEqzpM_qdEwaJc\n",
        ")"
      ]
    },
    {
      "cell_type": "markdown",
      "metadata": {
        "id": "MtoDiMzGwXiA"
      },
      "source": [
        "Assalamualaikum warahmatullahi wabarakatuh.\n",
        "\n",
        "***Robbi Zidni Ilma Warzuqni Fahma***\n",
        "\n",
        "Semoga Allah memberi kemudahan untuk kita memperoleh ilmu yang bermanfaat.\n",
        "\n",
        "Ini adalah notebook yang disusun untuk program **Kelas Dasar Pejuang Data 2.0** .\n",
        "\n",
        "Ini adalah **Notebook, List, String, & Dictionary Pada Python**:\n",
        "\n",
        "## **Hasil Yang Ingin Dicapai**\n",
        "1. Memahami List Pada Python\n",
        "2. Mengenal dan memahami method-method pada List Python\n",
        "3. Memahami String Pada Python\n",
        "4. Mengenal dan memahami method-method pada String Python\n",
        "5. Memahami Dictionary Pada Python\n",
        "6. Mengenal dan memahami method-method pada Dictionary Python\n",
        "\n",
        "\n",
        "\n"
      ]
    },
    {
      "cell_type": "markdown",
      "metadata": {
        "id": "Y0cxNwSpKqLf"
      },
      "source": [
        "# **List Pada Python**\n",
        "List adalah jenis kumpulan data terurut (ordered sequence), dan merupakan salah satu variabel yang sering digunakan pada Python. Serupa, namun tak sama dengan array pada bahasa pemrograman lainnya. Bedanya, elemen List pada Python tidak harus memiliki tipe data yang sama. Mendeklarasikan List cukup mudah dengan kurung siku dan elemen yang dipisahkan dengan koma. \n"
      ]
    },
    {
      "cell_type": "markdown",
      "metadata": {
        "id": "HBL8Vey2Pbf5"
      },
      "source": [
        "## Membuat List"
      ]
    },
    {
      "cell_type": "code",
      "metadata": {
        "id": "9pOtKzstLp3_",
        "colab": {
          "base_uri": "https://localhost:8080/"
        },
        "outputId": "1364ab06-e10c-4f78-d32c-075bd107665a"
      },
      "source": [
        "matkul = [\"fuzzy\", \"pdp\", \"metnum\" , \"graf\"]\n",
        "print(matkul)"
      ],
      "execution_count": null,
      "outputs": [
        {
          "output_type": "stream",
          "text": [
            "['fuzzy', 'pdp', 'metnum', 'graf']\n"
          ],
          "name": "stdout"
        }
      ]
    },
    {
      "cell_type": "markdown",
      "metadata": {
        "id": "PbSXryBkPdYT"
      },
      "source": [
        "## Mengakses elemen List"
      ]
    },
    {
      "cell_type": "markdown",
      "metadata": {
        "id": "15RUf2ihMM-Z"
      },
      "source": [
        "Menampilkan elemen\n",
        "caranya dengan menggunakan fungsi print"
      ]
    },
    {
      "cell_type": "code",
      "metadata": {
        "id": "Hp7Maj7rMf01",
        "colab": {
          "base_uri": "https://localhost:8080/"
        },
        "outputId": "610f9fc4-c18b-41a5-bea7-0f56bdfcd0f9"
      },
      "source": [
        "matkul = [\"fuzzy\", \"pdp\", \"metnum\" , \"graph\"]\n",
        "print(matkul[2])\n",
        "print(matkul[2:])\n",
        "print(matkul[0:3:2])\n",
        "print(matkul[-2])\n",
        "print(matkul[-4:-1])"
      ],
      "execution_count": null,
      "outputs": [
        {
          "output_type": "stream",
          "text": [
            "metnum\n",
            "['metnum', 'graph']\n",
            "['fuzzy', 'metnum']\n",
            "metnum\n",
            "['fuzzy', 'pdp', 'metnum']\n"
          ],
          "name": "stdout"
        }
      ]
    },
    {
      "cell_type": "markdown",
      "metadata": {
        "id": "v-KS7vuvPjYn"
      },
      "source": [
        "## Mengubah elemen List"
      ]
    },
    {
      "cell_type": "markdown",
      "metadata": {
        "id": "RSAg61A8a2qG"
      },
      "source": [
        "cara mengubah elemen dalam list"
      ]
    },
    {
      "cell_type": "code",
      "metadata": {
        "id": "UvoInRZ-bBWR",
        "colab": {
          "base_uri": "https://localhost:8080/"
        },
        "outputId": "35be2c92-ddd7-4f1e-a4e5-3bd2f684bf7c"
      },
      "source": [
        "matkul = [\"fuzzy\", \"pdp\", \"metnum\" , \"graf\" , \"sisdim\"]\n",
        "matkul[3] = \"aktuaria\"\n",
        "print(matkul)"
      ],
      "execution_count": null,
      "outputs": [
        {
          "output_type": "stream",
          "text": [
            "['fuzzy', 'pdp', 'metnum', 'aktuaria', 'sisdim']\n"
          ],
          "name": "stdout"
        }
      ]
    },
    {
      "cell_type": "markdown",
      "metadata": {
        "id": "qgQOa6EBPmGU"
      },
      "source": [
        "## Looping di dalam List"
      ]
    },
    {
      "cell_type": "markdown",
      "metadata": {
        "id": "cHHmiQv4bY3C"
      },
      "source": [
        "looping pada list"
      ]
    },
    {
      "cell_type": "code",
      "metadata": {
        "id": "m-2tgYqUbfP3",
        "colab": {
          "base_uri": "https://localhost:8080/"
        },
        "outputId": "cd1ef9cc-e0ae-46da-c17b-b0c9a4cc9837"
      },
      "source": [
        "matkul = [\"fuzzy\", \"pdp\", \"metnum\" , \"graf\"]\n",
        "\n",
        "for x in matkul:\n",
        "  print(x)"
      ],
      "execution_count": null,
      "outputs": [
        {
          "output_type": "stream",
          "text": [
            "fuzzy\n",
            "pdp\n",
            "metnum\n",
            "graf\n"
          ],
          "name": "stdout"
        }
      ]
    },
    {
      "cell_type": "markdown",
      "metadata": {
        "id": "1O4HrdbWPpm4"
      },
      "source": [
        "## Cek elemen pada List"
      ]
    },
    {
      "cell_type": "markdown",
      "metadata": {
        "id": "cv0aU1cEbvOd"
      },
      "source": [
        "cara mengecek apakah suatu elemen berada dalam list"
      ]
    },
    {
      "cell_type": "code",
      "metadata": {
        "id": "GNNA1lRkcAmT",
        "colab": {
          "base_uri": "https://localhost:8080/"
        },
        "outputId": "377807b3-2c48-4d53-c3d4-7c2102773771"
      },
      "source": [
        "matkul = [\"fuzzy\", \"pdp\", \"metnum\" , \"graf\"]\n",
        "if \"fuzzy\" in matkul:\n",
        "  print('fuzzy termasuk matkul')"
      ],
      "execution_count": null,
      "outputs": [
        {
          "output_type": "stream",
          "text": [
            "fuzzy termasuk matkul\n"
          ],
          "name": "stdout"
        }
      ]
    },
    {
      "cell_type": "markdown",
      "metadata": {
        "id": "uWchVoGNPsvh"
      },
      "source": [
        "## Menghitung jumlah elemen List"
      ]
    },
    {
      "cell_type": "markdown",
      "metadata": {
        "id": "U6CA-4q8cQfC"
      },
      "source": [
        "cara mengetahui jumlah elemen dalam list"
      ]
    },
    {
      "cell_type": "code",
      "metadata": {
        "id": "1ohkG60acYxq",
        "colab": {
          "base_uri": "https://localhost:8080/"
        },
        "outputId": "2c845d51-3878-4cff-cdbd-a5ae55dc632f"
      },
      "source": [
        "matkul = [\"fuzzy\", \"pdp\", \"metnum\" , \"graf\"]\n",
        "print(len(matkul))"
      ],
      "execution_count": null,
      "outputs": [
        {
          "output_type": "stream",
          "text": [
            "4\n"
          ],
          "name": "stdout"
        }
      ]
    },
    {
      "cell_type": "markdown",
      "metadata": {
        "id": "SXjjDvqYwPWD"
      },
      "source": [
        "# **Berbagai Method untuk List pada Python**"
      ]
    },
    {
      "cell_type": "markdown",
      "metadata": {
        "id": "GW_xJLbPOaPm"
      },
      "source": [
        "## Menambah elemen List"
      ]
    },
    {
      "cell_type": "markdown",
      "metadata": {
        "id": "O85URks5cmkj"
      },
      "source": [
        "cara menambahkan elemen dalam list\n",
        "ada 2 cara untuk menambahkan elemen pada list, yaitu;\n",
        "1. menggunakan metode append()\n",
        "2. menggunakan metode insert()\n"
      ]
    },
    {
      "cell_type": "code",
      "metadata": {
        "id": "nVJEDf96dOfe",
        "colab": {
          "base_uri": "https://localhost:8080/"
        },
        "outputId": "411df766-0df6-48e7-8033-61d473a63bf5"
      },
      "source": [
        "#metode append : menambahkan elemen pada baris terakhir\n",
        "matkul = [\"fuzzy\", \"pdp\", \"metnum\" , \"graf\"]\n",
        "matkul.append(\"anreg\")\n",
        "print(matkul)"
      ],
      "execution_count": null,
      "outputs": [
        {
          "output_type": "stream",
          "text": [
            "['fuzzy', 'pdp', 'metnum', 'graf', 'anreg']\n"
          ],
          "name": "stdout"
        }
      ]
    },
    {
      "cell_type": "code",
      "metadata": {
        "id": "6XrL3bqddhRt",
        "colab": {
          "base_uri": "https://localhost:8080/"
        },
        "outputId": "bdcaedce-24ab-4c59-bc44-797068effd4a"
      },
      "source": [
        "#metode insert : memasukkan elemen pada baris tertentu\n",
        "matkul = [\"fuzzy\", \"pdp\", \"metnum\" , \"graf\"]\n",
        "matkul.insert(1, 'anriil')\n",
        "print(matkul)"
      ],
      "execution_count": null,
      "outputs": [
        {
          "output_type": "stream",
          "text": [
            "['fuzzy', 'anriil', 'pdp', 'metnum', 'graf']\n"
          ],
          "name": "stdout"
        }
      ]
    },
    {
      "cell_type": "markdown",
      "metadata": {
        "id": "whHs8DMhOeyP"
      },
      "source": [
        "## Menghapus elemen List"
      ]
    },
    {
      "cell_type": "markdown",
      "metadata": {
        "id": "QK9-9GhIeE4u"
      },
      "source": [
        "menghapus elemen dalam list\n",
        "ada beberapa cara untuk menghapus elemen\n",
        "1. menggunakan keyword del\n",
        "2. menggunakan metode remove()\n",
        "3. menggunakan metode pop()\n",
        "4. menggunakan metode clear()"
      ]
    },
    {
      "cell_type": "code",
      "metadata": {
        "id": "b9dTvzNrewLA",
        "colab": {
          "base_uri": "https://localhost:8080/"
        },
        "outputId": "4d521bba-14d9-477e-ae25-97cc9fd75439"
      },
      "source": [
        "#menggunakan keyword del,(bukan hanya bisa menghapus elemen tapi bisa juga untuk mnghapus list)\n",
        "matkul = [\"fuzzy\", \"pdp\", \"metnum\" , \"graf\"]\n",
        "del matkul[3]\n",
        "print(matkul)\n",
        "matkul1 = [\"fuzzy\", \"pdp\", \"metnum\" , \"graf\"]\n",
        "del matkul"
      ],
      "execution_count": null,
      "outputs": [
        {
          "output_type": "stream",
          "text": [
            "['fuzzy', 'pdp', 'metnum']\n"
          ],
          "name": "stdout"
        }
      ]
    },
    {
      "cell_type": "code",
      "metadata": {
        "id": "GNVgWlzAe06_",
        "colab": {
          "base_uri": "https://localhost:8080/"
        },
        "outputId": "01cd1144-0684-4cbe-9082-a4db9a924cc3"
      },
      "source": [
        "#menggunakan metode remove(): menggunakan remove() harus menyebutkan nama elemennya langsung\n",
        "matkul = [\"fuzzy\", \"pdp\", \"metnum\" , \"graf\"]\n",
        "matkul.remove(\"fuzzy\")\n",
        "print(matkul)\n"
      ],
      "execution_count": null,
      "outputs": [
        {
          "output_type": "stream",
          "text": [
            "['pdp', 'metnum', 'graf']\n"
          ],
          "name": "stdout"
        }
      ]
    },
    {
      "cell_type": "code",
      "metadata": {
        "id": "R3V2IapIf76i",
        "colab": {
          "base_uri": "https://localhost:8080/"
        },
        "outputId": "265c3e44-da45-4cc7-e94d-1534c626e62f"
      },
      "source": [
        "#menggunakan metode pop(a): menghapus elemen baris ke-a atau baris terakhir\n",
        "matkul = [\"fuzzy\", \"pdp\", \"metnum\" , \"graf\"]\n",
        "matkul.pop(2)\n",
        "matkul.pop()\n",
        "print(matkul) "
      ],
      "execution_count": null,
      "outputs": [
        {
          "output_type": "stream",
          "text": [
            "['fuzzy', 'pdp']\n"
          ],
          "name": "stdout"
        }
      ]
    },
    {
      "cell_type": "code",
      "metadata": {
        "id": "IYrhbP_wga_Q",
        "colab": {
          "base_uri": "https://localhost:8080/"
        },
        "outputId": "e7470328-e851-48f7-ed34-4a8837201b84"
      },
      "source": [
        "#menggunakan metode clear(): menghapus seluruh elemen pada list\n",
        "matkul = [\"fuzzy\", \"pdp\", \"metnum\" , \"graf\"]\n",
        "matkul.clear()\n",
        "print(matkul)"
      ],
      "execution_count": null,
      "outputs": [
        {
          "output_type": "stream",
          "text": [
            "[]\n"
          ],
          "name": "stdout"
        }
      ]
    },
    {
      "cell_type": "markdown",
      "metadata": {
        "id": "Yhka3x5-Oht-"
      },
      "source": [
        "## Mengkopi List"
      ]
    },
    {
      "cell_type": "markdown",
      "metadata": {
        "id": "uIB3DvQYgrJ-"
      },
      "source": [
        "copy list\n",
        "ada 2 cara untuk copy list\n",
        "1. menggunakan metode copy()\n",
        "2. menggunakan metode list()"
      ]
    },
    {
      "cell_type": "code",
      "metadata": {
        "id": "oaTesw-zhFOt",
        "colab": {
          "base_uri": "https://localhost:8080/"
        },
        "outputId": "12b130e2-99fb-4928-9b5d-e68b3409f1e0"
      },
      "source": [
        "#menggunakan metode copy()\n",
        "matkul = [\"fuzzy\", \"pdp\", \"metnum\" , \"graf\"]\n",
        "matlah = matkul.copy()\n",
        "print(matlah)"
      ],
      "execution_count": null,
      "outputs": [
        {
          "output_type": "stream",
          "text": [
            "['fuzzy', 'pdp', 'metnum', 'graf']\n"
          ],
          "name": "stdout"
        }
      ]
    },
    {
      "cell_type": "code",
      "metadata": {
        "id": "TFz6YhanhWS9",
        "colab": {
          "base_uri": "https://localhost:8080/"
        },
        "outputId": "63517381-24d0-4120-f0c4-4c7c394164ce"
      },
      "source": [
        "#menggunakan metode list()\n",
        "matkul = [\"fuzzy\", \"pdp\", \"metnum\" , \"graf\"]\n",
        "matlah = list(matkul)\n",
        "print(matlah)"
      ],
      "execution_count": null,
      "outputs": [
        {
          "output_type": "stream",
          "text": [
            "['fuzzy', 'pdp', 'metnum', 'graf']\n"
          ],
          "name": "stdout"
        }
      ]
    },
    {
      "cell_type": "markdown",
      "metadata": {
        "id": "OGdeaa29OpbH"
      },
      "source": [
        "## Menggabung List"
      ]
    },
    {
      "cell_type": "markdown",
      "metadata": {
        "id": "yPxC06ewhjnC"
      },
      "source": [
        "cara menggabungkan 2 list\n",
        "1. menggunakan tanda +\n",
        "2. menggunakan metode append()\n",
        "3. menggunakan metode extend()"
      ]
    },
    {
      "cell_type": "code",
      "metadata": {
        "id": "JGECFOskh8n8",
        "colab": {
          "base_uri": "https://localhost:8080/"
        },
        "outputId": "4a2f489c-e701-49be-d717-42c7568cc622"
      },
      "source": [
        "#menggnakan tanda +\n",
        "matkul = [\"fuzzy\", \"pdp\", \"metnum\" , \"graf\"]\n",
        "angka = [1, 2, 3, 4]\n",
        "\n",
        "hasil = matkul + angka\n",
        "print(hasil)"
      ],
      "execution_count": null,
      "outputs": [
        {
          "output_type": "stream",
          "text": [
            "['fuzzy', 'pdp', 'metnum', 'graf', 1, 2, 3, 4]\n"
          ],
          "name": "stdout"
        }
      ]
    },
    {
      "cell_type": "code",
      "metadata": {
        "id": "EhwfXTCuiL1U",
        "colab": {
          "base_uri": "https://localhost:8080/"
        },
        "outputId": "574e59ab-396c-4540-99a1-60454f0c6305"
      },
      "source": [
        "#menggunakan metode append\n",
        "matkul = [\"fuzzy\", \"pdp\", \"metnum\" , \"graf\"]\n",
        "angka = [1, 2, 3, 4]\n",
        "\n",
        "for x in angka:\n",
        "  matkul.append(x)\n",
        "\n",
        "print(matkul)"
      ],
      "execution_count": null,
      "outputs": [
        {
          "output_type": "stream",
          "text": [
            "['fuzzy', 'pdp', 'metnum', 'graf', 1, 2, 3, 4]\n"
          ],
          "name": "stdout"
        }
      ]
    },
    {
      "cell_type": "code",
      "metadata": {
        "id": "JW9IRHnYii9F",
        "colab": {
          "base_uri": "https://localhost:8080/"
        },
        "outputId": "3796baef-58b2-4225-ede1-0cee82439e9d"
      },
      "source": [
        "#menggunakan metode extend\n",
        "matkul = [\"fuzzy\", \"pdp\", \"metnum\" , \"graf\"]\n",
        "angka = [1, 2, 3, 4]\n",
        "\n",
        "matkul.extend(angka)\n",
        "print(matkul)"
      ],
      "execution_count": null,
      "outputs": [
        {
          "output_type": "stream",
          "text": [
            "['fuzzy', 'pdp', 'metnum', 'graf', 1, 2, 3, 4]\n"
          ],
          "name": "stdout"
        }
      ]
    },
    {
      "cell_type": "markdown",
      "metadata": {
        "id": "K-85e962443K"
      },
      "source": [
        "# **String pada Python**\n"
      ]
    },
    {
      "cell_type": "markdown",
      "metadata": {
        "id": "3U8ND-Ft5ZII"
      },
      "source": [
        "## *String Literals*\n",
        "####String literal dalam python diapit oleh tanda kutip tunggal, atau tanda kutip ganda\n",
        "####'Buku' = \"Buku\" dalam python ini sama saja\n",
        "####Anda dapat menampilkan literal string dengan fungsi print ():\n"
      ]
    },
    {
      "cell_type": "code",
      "metadata": {
        "id": "StGvS-Ey1bLX",
        "colab": {
          "base_uri": "https://localhost:8080/"
        },
        "outputId": "7258184b-796b-47c1-cff9-083fa07eb605"
      },
      "source": [
        "#Contoh :\n",
        "print(\"Hello\")\n",
        "print('Hello')"
      ],
      "execution_count": null,
      "outputs": [
        {
          "output_type": "stream",
          "text": [
            "Hello\n",
            "Hello\n"
          ],
          "name": "stdout"
        }
      ]
    },
    {
      "cell_type": "markdown",
      "metadata": {
        "id": "-aatCBuO95wP"
      },
      "source": [
        "Expected output:\n",
        "```\n",
        "Hello\n",
        "Hello\n",
        "```"
      ]
    },
    {
      "cell_type": "code",
      "metadata": {
        "id": "E7xhLyI_D5dE",
        "colab": {
          "base_uri": "https://localhost:8080/"
        },
        "outputId": "7a1a41ff-2bd3-420c-9beb-a8dc61c8d7a8"
      },
      "source": [
        "#Mulai Program mu....^_^\n",
        "print(\"Hai\")\n",
        "print('Hai')"
      ],
      "execution_count": null,
      "outputs": [
        {
          "output_type": "stream",
          "text": [
            "Hai\n",
            "Hai\n"
          ],
          "name": "stdout"
        }
      ]
    },
    {
      "cell_type": "markdown",
      "metadata": {
        "id": "uW2Ii3iL9Fbb"
      },
      "source": [
        "## *Assign String to a Variable*\n",
        "####Menetapkan string ke variabel dilakukan dengan nama variabel diikuti dengan tanda sama dengan dan stringnya:"
      ]
    },
    {
      "cell_type": "code",
      "metadata": {
        "id": "HPvNIIOv93Uj",
        "colab": {
          "base_uri": "https://localhost:8080/"
        },
        "outputId": "2a40e336-4be9-48b7-8929-8da620ab9e76"
      },
      "source": [
        "#Contoh\n",
        "a = \"Hello\"\n",
        "print(a)"
      ],
      "execution_count": null,
      "outputs": [
        {
          "output_type": "stream",
          "text": [
            "Hello\n"
          ],
          "name": "stdout"
        }
      ]
    },
    {
      "cell_type": "markdown",
      "metadata": {
        "id": "Rgf7Zdk2-cma"
      },
      "source": [
        "Expected output:\n",
        "```\n",
        "Hello\n",
        "```\n",
        "Penjelasan :\n",
        "a adalah variabel\n",
        "kemudian diikuti tanda samadengan =\n",
        "kemudian masukkan nilai berupa string yaitu \"Hello\""
      ]
    },
    {
      "cell_type": "code",
      "metadata": {
        "id": "XnW_XFWCEU_Y",
        "colab": {
          "base_uri": "https://localhost:8080/"
        },
        "outputId": "ad249195-4f23-4803-ac4d-3027d1ab6019"
      },
      "source": [
        "#Mulai Program mu....^_^\n",
        "j = '127'\n",
        "print(j)"
      ],
      "execution_count": null,
      "outputs": [
        {
          "output_type": "stream",
          "text": [
            "127\n"
          ],
          "name": "stdout"
        }
      ]
    },
    {
      "cell_type": "markdown",
      "metadata": {
        "id": "eYAdwdwp_o_M"
      },
      "source": [
        "## *Multiline Strings*\n",
        "####Kita dapat menetapkan string multiline ke variabel dengan menggunakan tiga tanda kutip:"
      ]
    },
    {
      "cell_type": "code",
      "metadata": {
        "id": "KqKBqkEFAv-e",
        "colab": {
          "base_uri": "https://localhost:8080/"
        },
        "outputId": "450ee287-a057-453e-abe0-cc96ecaef5a1"
      },
      "source": [
        "#Contoh 1\n",
        "a = '''PSDS adalah kelompok studi Data Science\n",
        "yang dibentuk oleh mahasiswa\n",
        "program studi Matematika.'''\n",
        "print(a)"
      ],
      "execution_count": null,
      "outputs": [
        {
          "output_type": "stream",
          "text": [
            "PSDS adalah kelompok studi Data Science\n",
            "yang dibentuk oleh mahasiswa\n",
            "program studi Matematika.\n"
          ],
          "name": "stdout"
        }
      ]
    },
    {
      "cell_type": "markdown",
      "metadata": {
        "id": "HoKPF7srDzRN"
      },
      "source": [
        "Expected output:\n",
        "```\n",
        "PSDS adalah kelompok studi Data Science\n",
        "yang dibentuk oleh mahasiswa\n",
        "program studi Matematika.\n",
        "\n",
        "```"
      ]
    },
    {
      "cell_type": "code",
      "metadata": {
        "id": "VowpERdPEsQJ",
        "colab": {
          "base_uri": "https://localhost:8080/"
        },
        "outputId": "09d3cae0-a3a3-4582-e962-28a524a4a9c4"
      },
      "source": [
        "#Mulai Program mu....^_^\n",
        "k = '''universitas ahmad dahlan\n",
        "didirikan tahun 1960'''\n",
        "print(k)"
      ],
      "execution_count": null,
      "outputs": [
        {
          "output_type": "stream",
          "text": [
            "universitas ahmad dahlan\n",
            "didirikan tahun 1960\n"
          ],
          "name": "stdout"
        }
      ]
    },
    {
      "cell_type": "markdown",
      "metadata": {
        "id": "lTmDSoYcB0Gb"
      },
      "source": [
        "Kita bisa juga menggunakan double tanda kutip, misal : ```\"\"\"stringnya\"\"\"```"
      ]
    },
    {
      "cell_type": "code",
      "metadata": {
        "id": "SJRPjO1PBNZF",
        "colab": {
          "base_uri": "https://localhost:8080/"
        },
        "outputId": "b24f3623-5a21-4e08-84ad-20141a541536"
      },
      "source": [
        "#Contoh 2\n",
        "a = \"\"\"PSDS adalah kelompok studi Data Science\n",
        "yang dibentuk oleh mahasiswa\n",
        "program studi Matematika.\"\"\"\n",
        "print(a)\n",
        "#Hasilnya, jeda baris disisipkan pada posisi yang sama seperti pada kode."
      ],
      "execution_count": null,
      "outputs": [
        {
          "output_type": "stream",
          "text": [
            "PSDS adalah kelompok studi Data Science\n",
            "yang dibentuk oleh mahasiswa\n",
            "program studi Matematika.\n"
          ],
          "name": "stdout"
        }
      ]
    },
    {
      "cell_type": "markdown",
      "metadata": {
        "id": "Sy-1uZquD-02"
      },
      "source": [
        "Expected output:\n",
        "```\n",
        "PSDS adalah kelompok studi Data Science\n",
        "yang dibentuk oleh mahasiswa\n",
        "program studi Matematika.\n",
        "```\n",
        "\n",
        "Penjelasan : jeda baris disisipkan pada posisi yang sama seperti pada kode."
      ]
    },
    {
      "cell_type": "code",
      "metadata": {
        "id": "-vth3zQNFEZ3",
        "colab": {
          "base_uri": "https://localhost:8080/"
        },
        "outputId": "d24fb32c-cc8d-416f-819a-c4996e5e04da"
      },
      "source": [
        "#Mulai Program mu....^_^\n",
        "\n",
        "l = \"\"\"universitas ahmad dahlan\n",
        "didirikan tahun 1960\n",
        "aaaaaaaaaaaaaaa\"\"\"\n",
        "print(l)"
      ],
      "execution_count": null,
      "outputs": [
        {
          "output_type": "stream",
          "text": [
            "universitas ahmad dahlan\n",
            "didirikan tahun 1960\n",
            "aaaaaaaaaaaaaaa\n"
          ],
          "name": "stdout"
        }
      ]
    },
    {
      "cell_type": "markdown",
      "metadata": {
        "id": "XQLfbQFQEVmu"
      },
      "source": [
        "## *Strings are Arrays*\n",
        "####Seperti banyak bahasa pemrograman populer lainnya, string dalam Python adalah array byte yang mewakili karakter unicode.\n",
        "####Namun, Python tidak memiliki tipe data karakter, satu karakter hanyalah string dengan panjang 1\n",
        "####Tanda kurung siku dapat digunakan untuk mengakses elemen string."
      ]
    },
    {
      "cell_type": "code",
      "metadata": {
        "id": "VqY0-8FUCPBf",
        "colab": {
          "base_uri": "https://localhost:8080/"
        },
        "outputId": "f6acd2d8-3b95-451a-9405-8c4aa972ed30"
      },
      "source": [
        "#Contoh\n",
        "a = \"Hello, World!\"\n",
        "print(a[1])"
      ],
      "execution_count": null,
      "outputs": [
        {
          "output_type": "stream",
          "text": [
            "e\n"
          ],
          "name": "stdout"
        }
      ]
    },
    {
      "cell_type": "markdown",
      "metadata": {
        "id": "nPN1G_m9GhQZ"
      },
      "source": [
        "Expected output:\n",
        "```\n",
        "e\n",
        "```\n",
        "Penjelasan : Dapatkan karakter di posisi 1 (ingat bahwa karakter pertama memiliki posisi 0):\n",
        "\n"
      ]
    },
    {
      "cell_type": "code",
      "metadata": {
        "id": "8t036hewYZzW",
        "colab": {
          "base_uri": "https://localhost:8080/"
        },
        "outputId": "2d4cb520-930a-40f5-db8b-6e25c837262f"
      },
      "source": [
        "#Mulai Program mu....^_^\n",
        "p = \"Sekretariat\"\n",
        "print(p[6])"
      ],
      "execution_count": null,
      "outputs": [
        {
          "output_type": "stream",
          "text": [
            "a\n"
          ],
          "name": "stdout"
        }
      ]
    },
    {
      "cell_type": "markdown",
      "metadata": {
        "id": "vagnEyfWHADQ"
      },
      "source": [
        "## *Slicing*\n",
        "####Anda dapat mengembalikan berbagai karakter dengan menggunakan sintaksis slice.\n",
        "####Tentukan indeks awal dan indeks akhir, dipisahkan oleh titik dua, untuk mengembalikan bagian dari string."
      ]
    },
    {
      "cell_type": "code",
      "metadata": {
        "id": "kvukrxjxIN1s",
        "colab": {
          "base_uri": "https://localhost:8080/"
        },
        "outputId": "9fab28ec-7de0-4d33-e63b-3297d9a7b384"
      },
      "source": [
        "#Contoh :\n",
        "b = \"Hello, World!\"\n",
        "print(b[2:5])\n",
        "#Dapatkan karakter dari posisi 2 ke posisi 5 (tidak termasuk):"
      ],
      "execution_count": null,
      "outputs": [
        {
          "output_type": "stream",
          "text": [
            "llo\n"
          ],
          "name": "stdout"
        }
      ]
    },
    {
      "cell_type": "markdown",
      "metadata": {
        "id": "tvz7WZHdKQgH"
      },
      "source": [
        "Expected output:\n",
        "```\n",
        "llo\n",
        "```"
      ]
    },
    {
      "cell_type": "code",
      "metadata": {
        "id": "M4geTGseYgmQ",
        "colab": {
          "base_uri": "https://localhost:8080/"
        },
        "outputId": "ee3101b2-f6d9-4854-93f6-e6e6eaccc58f"
      },
      "source": [
        "#Mulai Program mu....^_^\n",
        "t = \"mempertanggungjawabkan\"\n",
        "print(t[4:14])"
      ],
      "execution_count": null,
      "outputs": [
        {
          "output_type": "stream",
          "text": [
            "ertanggung\n"
          ],
          "name": "stdout"
        }
      ]
    },
    {
      "cell_type": "markdown",
      "metadata": {
        "id": "2LQPMzQAKilR"
      },
      "source": [
        "## *Negative Indexing*\n",
        "Gunakan indeks negatif untuk memulai potongan dari ujung string:"
      ]
    },
    {
      "cell_type": "code",
      "metadata": {
        "id": "n2yD3tJ4LG93",
        "colab": {
          "base_uri": "https://localhost:8080/"
        },
        "outputId": "95976fc5-4f9e-4ce3-8405-479f5920503f"
      },
      "source": [
        "#Contoh\n",
        "b = \"Hello, World!\"\n",
        "print(b[-5:-2])\n",
        "#Dapatkan karakter dari posisi 5 ke posisi 1 (tidak termasuk), mulai hitungan dari akhir string:"
      ],
      "execution_count": null,
      "outputs": [
        {
          "output_type": "stream",
          "text": [
            "orl\n"
          ],
          "name": "stdout"
        }
      ]
    },
    {
      "cell_type": "markdown",
      "metadata": {
        "id": "nlzaUPw2Mkwr"
      },
      "source": [
        "Expected output:\n",
        "```\n",
        "orl\n",
        "```"
      ]
    },
    {
      "cell_type": "code",
      "metadata": {
        "id": "InprXyehZUUk",
        "colab": {
          "base_uri": "https://localhost:8080/"
        },
        "outputId": "59957cf2-7b42-4822-d4e9-50da3926ec44"
      },
      "source": [
        "#Mulai Program mu....^_^\n",
        "y = \"mempertanggungjawabkan\"\n",
        "print(y[-8:-3])"
      ],
      "execution_count": null,
      "outputs": [
        {
          "output_type": "stream",
          "text": [
            "jawab\n"
          ],
          "name": "stdout"
        }
      ]
    },
    {
      "cell_type": "code",
      "metadata": {
        "id": "A7Z1cnl2ekma",
        "colab": {
          "base_uri": "https://localhost:8080/"
        },
        "outputId": "42d1012d-229a-485e-ae00-cb485fcb718c"
      },
      "source": [
        "#Contoh\n",
        "a = \"Hello, World!\"\n",
        "print(len(a))\n",
        "#Fungsi len () mengembalikan panjang string:"
      ],
      "execution_count": null,
      "outputs": [
        {
          "output_type": "stream",
          "text": [
            "13\n"
          ],
          "name": "stdout"
        }
      ]
    },
    {
      "cell_type": "markdown",
      "metadata": {
        "id": "I7o2xNSJpQxD"
      },
      "source": [
        "Expected Output :\n",
        "```\n",
        "13\n",
        "```"
      ]
    },
    {
      "cell_type": "code",
      "metadata": {
        "id": "-axqRlaqZY8x",
        "colab": {
          "base_uri": "https://localhost:8080/"
        },
        "outputId": "cec6b271-ed48-4fbb-87ee-401db4169567"
      },
      "source": [
        "#Mulai Program mu....^_^\n",
        "t = \"mempertanggungjawabkan\"\n",
        "print(len(t))"
      ],
      "execution_count": null,
      "outputs": [
        {
          "output_type": "stream",
          "text": [
            "22\n"
          ],
          "name": "stdout"
        }
      ]
    },
    {
      "cell_type": "markdown",
      "metadata": {
        "id": "kIXBHAk3f_KI"
      },
      "source": [
        "## *Check String*\n",
        "Untuk memeriksa apakah frase atau karakter tertentu ada dalam sebuah string, kita dapat menggunakan kata kunci in atau not in"
      ]
    },
    {
      "cell_type": "code",
      "metadata": {
        "id": "aHqLK3vHfzQS",
        "colab": {
          "base_uri": "https://localhost:8080/"
        },
        "outputId": "014e7b8d-aa10-4043-bbfe-aec6841fbf46"
      },
      "source": [
        "#Contoh 1\n",
        "#Periksa apakah frase \"jan\" ada dalam teks berikut:\n",
        "txt = \"Hujan di Spanyol umumnya tetap di dataran\"\n",
        "x = \"jan\" in txt\n",
        "print(x)"
      ],
      "execution_count": null,
      "outputs": [
        {
          "output_type": "stream",
          "text": [
            "True\n"
          ],
          "name": "stdout"
        }
      ]
    },
    {
      "cell_type": "markdown",
      "metadata": {
        "id": "EvjnqufLpcwD"
      },
      "source": [
        "Expected Output :\n",
        "```\n",
        "True\n",
        "```"
      ]
    },
    {
      "cell_type": "code",
      "metadata": {
        "id": "oXIdUm4lZk0b",
        "colab": {
          "base_uri": "https://localhost:8080/"
        },
        "outputId": "0f9e41ba-060d-45aa-81a7-d706291f0a1c"
      },
      "source": [
        "#Mulai Program mu....^_^\n",
        "cbx = \"It's a cruel game I cannot lose\"\n",
        "x = \"gam\" in cbx\n",
        "print(x)"
      ],
      "execution_count": null,
      "outputs": [
        {
          "output_type": "stream",
          "text": [
            "True\n"
          ],
          "name": "stdout"
        }
      ]
    },
    {
      "cell_type": "code",
      "metadata": {
        "id": "fgyz-8kHgiC8",
        "colab": {
          "base_uri": "https://localhost:8080/"
        },
        "outputId": "77686e1f-a308-47e7-9419-7aa5b33f2dab"
      },
      "source": [
        "#Contoh\n",
        "#Periksa apakah frase \"ain\" TIDAK ada dalam teks berikut:\n",
        "txt = \"Hujan di Spanyol umumnya tetap di dataran\"\n",
        "x = \"jan\" not in txt\n",
        "print(x) "
      ],
      "execution_count": null,
      "outputs": [
        {
          "output_type": "stream",
          "text": [
            "False\n"
          ],
          "name": "stdout"
        }
      ]
    },
    {
      "cell_type": "markdown",
      "metadata": {
        "id": "gEzY_18PplCV"
      },
      "source": [
        "Expected Output :\n",
        "```\n",
        "False\n",
        "```"
      ]
    },
    {
      "cell_type": "code",
      "metadata": {
        "id": "3xsC0rt2ZrPa",
        "colab": {
          "base_uri": "https://localhost:8080/"
        },
        "outputId": "23b57294-96c2-420b-8cd1-4d2407c6d857"
      },
      "source": [
        "#Mulai Program mu....^_^\n",
        "cbx = \"It's a cruel game I cannot lose\"\n",
        "x = \"win\" in cbx\n",
        "print(x)"
      ],
      "execution_count": null,
      "outputs": [
        {
          "output_type": "stream",
          "text": [
            "False\n"
          ],
          "name": "stdout"
        }
      ]
    },
    {
      "cell_type": "markdown",
      "metadata": {
        "id": "whJkJ80wg4ri"
      },
      "source": [
        "## *String Concatenation*\n",
        "Untuk menggabungkan, atau menggabungkan, dua string Anda dapat menggunakan operator +."
      ]
    },
    {
      "cell_type": "code",
      "metadata": {
        "id": "KcheDEPZhEUn",
        "colab": {
          "base_uri": "https://localhost:8080/"
        },
        "outputId": "53d9a386-6864-4ce1-8494-2ae482e60a1b"
      },
      "source": [
        "#Contoh\n",
        "#Gabungkan variabel a dengan variabel b menjadi variabel c\n",
        "a = \"Hello\"\n",
        "b = \"World\"\n",
        "c = a + b\n",
        "print(c)"
      ],
      "execution_count": null,
      "outputs": [
        {
          "output_type": "stream",
          "text": [
            "HelloWorld\n"
          ],
          "name": "stdout"
        }
      ]
    },
    {
      "cell_type": "markdown",
      "metadata": {
        "id": "yzB_x6uvsgIx"
      },
      "source": [
        "Output :\n",
        "```\n",
        "HelloWorld\n",
        "```"
      ]
    },
    {
      "cell_type": "code",
      "metadata": {
        "id": "G0GMGTBgZ-f6",
        "colab": {
          "base_uri": "https://localhost:8080/"
        },
        "outputId": "fab0d87f-e325-4986-c462-da396e71b8d5"
      },
      "source": [
        "#Mulai Program mu....^_^\n",
        "x = \"On your\"\n",
        "y = \"mark\"\n",
        "z = x + y\n",
        "print(z)"
      ],
      "execution_count": null,
      "outputs": [
        {
          "output_type": "stream",
          "text": [
            "On your mark\n"
          ],
          "name": "stdout"
        }
      ]
    },
    {
      "cell_type": "code",
      "metadata": {
        "id": "_WYRHkRthc-y",
        "colab": {
          "base_uri": "https://localhost:8080/"
        },
        "outputId": "75577c13-0a42-4a69-e3bc-825e2e14e21f"
      },
      "source": [
        "#Contoh\n",
        "#Untuk menambahkan spasi di antara keduanya, tambahkan \" \":\n",
        "a = \"Hello\"\n",
        "b = \"World\"\n",
        "c = a + \" \" + b\n",
        "print(c)"
      ],
      "execution_count": null,
      "outputs": [
        {
          "output_type": "stream",
          "text": [
            "Hello World\n"
          ],
          "name": "stdout"
        }
      ]
    },
    {
      "cell_type": "markdown",
      "metadata": {
        "id": "UgWS9_39stHi"
      },
      "source": [
        "Output :\n",
        "```\n",
        "Hello World\n",
        "```"
      ]
    },
    {
      "cell_type": "code",
      "metadata": {
        "id": "tgMo3eBoaE5r",
        "colab": {
          "base_uri": "https://localhost:8080/"
        },
        "outputId": "7a55c164-b9e6-4f19-c082-ef00dee59e53"
      },
      "source": [
        "#Mulai Program mu....\n",
        "x = \"On your\"\n",
        "y = \"mark\"\n",
        "z = x + \" \" + y\n",
        "print(z)"
      ],
      "execution_count": null,
      "outputs": [
        {
          "output_type": "stream",
          "text": [
            "On your mark\n"
          ],
          "name": "stdout"
        }
      ]
    },
    {
      "cell_type": "markdown",
      "metadata": {
        "id": "4Fhyimgde2Mn"
      },
      "source": [
        "##**String Format**\n",
        "####Seperti yang kita pelajari di bab Variabel Python, kita tidak bisa menggabungkan string dan angka seperti ini:"
      ]
    },
    {
      "cell_type": "code",
      "metadata": {
        "id": "7L6XBNLejHsT",
        "colab": {
          "base_uri": "https://localhost:8080/"
        },
        "outputId": "2199a578-5a7f-4d90-9c77-fa8afb64d772"
      },
      "source": [
        "#Contoh\n",
        "umur = \"20\"\n",
        "txt = \"Nama saya Mujhid, saya \" + umur\n",
        "print(txt)"
      ],
      "execution_count": null,
      "outputs": [
        {
          "output_type": "stream",
          "text": [
            "Nama saya Mujhid, saya 20\n"
          ],
          "name": "stdout"
        }
      ]
    },
    {
      "cell_type": "markdown",
      "metadata": {
        "id": "IyDYFm-5s4w8"
      },
      "source": [
        "Output :\n",
        "```\n",
        "Nama saya Mujhid, saya 20\n",
        "```"
      ]
    },
    {
      "cell_type": "markdown",
      "metadata": {
        "id": "xMzqxUejkZrt"
      },
      "source": [
        "Tapi kita bisa menggabungkan string dan angka dengan menggunakan metode format ()!\n",
        "\n",
        "Metode format () mengambil argumen yang diteruskan, memformatnya, dan menempatkannya dalam string di mana placeholder {} berada:"
      ]
    },
    {
      "cell_type": "markdown",
      "metadata": {
        "id": "-7gLLgzqe2Mx"
      },
      "source": [
        "# *Berbagai Method untuk String pada Python*\n",
        "\n",
        "Python memiliki seperangkat metode bawaan yang dapat Anda gunakan pada string."
      ]
    },
    {
      "cell_type": "markdown",
      "metadata": {
        "id": "P8NnekdTGMh9"
      },
      "source": [
        "### Strip()\n",
        "\n",
        "Method strip() berfungsi untuk menghapus spasi apa pun dari awal atau akhir"
      ]
    },
    {
      "cell_type": "code",
      "metadata": {
        "id": "adhHBCCIfCRV",
        "colab": {
          "base_uri": "https://localhost:8080/"
        },
        "outputId": "be4158e1-c9ea-4ca3-af38-669508461bc7"
      },
      "source": [
        "#Contoh\n",
        "a = \" Hello, World! \"\n",
        "print(a.strip()) # returns \"Hello, World!\""
      ],
      "execution_count": null,
      "outputs": [
        {
          "output_type": "stream",
          "text": [
            "Hello, World!\n"
          ],
          "name": "stdout"
        }
      ]
    },
    {
      "cell_type": "markdown",
      "metadata": {
        "id": "Qeo6pBGotbxk"
      },
      "source": [
        "Output :\n",
        "```\n",
        "Hello, World!\n",
        "```"
      ]
    },
    {
      "cell_type": "code",
      "metadata": {
        "id": "bnhTYGQEAytD",
        "colab": {
          "base_uri": "https://localhost:8080/"
        },
        "outputId": "453d1a20-ad70-497b-89e0-c21d30bb4155"
      },
      "source": [
        "#Mulai Program Mu....\n",
        "z = \" On your mark \"\n",
        "print(z)\n",
        "print(z.strip()) # returns \"on your mark\""
      ],
      "execution_count": null,
      "outputs": [
        {
          "output_type": "stream",
          "text": [
            " On your mark \n",
            "On your mark\n"
          ],
          "name": "stdout"
        }
      ]
    },
    {
      "cell_type": "markdown",
      "metadata": {
        "id": "y-DOox5dndFL"
      },
      "source": [
        "###Lower()\n",
        "#####Metode lower () mengembalikan string dalam huruf kecil:"
      ]
    },
    {
      "cell_type": "code",
      "metadata": {
        "id": "D_ST04cMewvV",
        "colab": {
          "base_uri": "https://localhost:8080/"
        },
        "outputId": "55e3744e-6307-4763-832f-3a094337b431"
      },
      "source": [
        "#Contoh\n",
        "a = \"HELLO, World!\"\n",
        "print(a.lower())"
      ],
      "execution_count": null,
      "outputs": [
        {
          "output_type": "stream",
          "text": [
            "hello, world!\n"
          ],
          "name": "stdout"
        }
      ]
    },
    {
      "cell_type": "markdown",
      "metadata": {
        "id": "4rtfR-MQtv1z"
      },
      "source": [
        "Output :\n",
        "```\n",
        "hello, world!\n",
        "```"
      ]
    },
    {
      "cell_type": "code",
      "metadata": {
        "colab": {
          "base_uri": "https://localhost:8080/"
        },
        "id": "ZvKWBv0Cs4py",
        "outputId": "fd01d280-618a-4503-ec02-6b338a7fbf79"
      },
      "source": [
        "z = \" ON YOUR MARK \"\n",
        "print(z)\n",
        "print(z.lower()) "
      ],
      "execution_count": null,
      "outputs": [
        {
          "output_type": "stream",
          "text": [
            " ON YOUR MARK \n",
            " on your mark \n"
          ],
          "name": "stdout"
        }
      ]
    },
    {
      "cell_type": "markdown",
      "metadata": {
        "id": "goEziMRaop2n"
      },
      "source": [
        "###Upper()\n",
        "#####Metode upper() mengembalikan string dalam huruf besar:"
      ]
    },
    {
      "cell_type": "code",
      "metadata": {
        "id": "tORVzIurfiyq",
        "colab": {
          "base_uri": "https://localhost:8080/"
        },
        "outputId": "791a726a-3de2-413f-f489-7984ba6e3548"
      },
      "source": [
        "#Contoh\n",
        "a = \"Hello, World!\"\n",
        "print(a.upper())"
      ],
      "execution_count": null,
      "outputs": [
        {
          "output_type": "stream",
          "text": [
            "HELLO, WORLD!\n"
          ],
          "name": "stdout"
        }
      ]
    },
    {
      "cell_type": "markdown",
      "metadata": {
        "id": "1d7SQJ3zt6M-"
      },
      "source": [
        "Output :\n",
        "```\n",
        "HELLO, WORLD!\n",
        "```"
      ]
    },
    {
      "cell_type": "code",
      "metadata": {
        "colab": {
          "base_uri": "https://localhost:8080/"
        },
        "id": "EHqeXmRItCJi",
        "outputId": "8ec4db24-6e15-4d18-f125-2bf4da4a25ae"
      },
      "source": [
        "z = \"on your mark\"\n",
        "print(z)\n",
        "print(z.upper()) "
      ],
      "execution_count": null,
      "outputs": [
        {
          "output_type": "stream",
          "text": [
            "on your mark\n",
            "ON YOUR MARK\n"
          ],
          "name": "stdout"
        }
      ]
    },
    {
      "cell_type": "markdown",
      "metadata": {
        "id": "p_8BudcBuNRK"
      },
      "source": [
        "###Replace()\n",
        "#####Metode replace () menggantikan string dengan string lain:"
      ]
    },
    {
      "cell_type": "code",
      "metadata": {
        "id": "KRCtERX-fsRL",
        "colab": {
          "base_uri": "https://localhost:8080/"
        },
        "outputId": "25ba4862-89c1-4db1-a36d-8229e185d50e"
      },
      "source": [
        "#Contoh\n",
        "a = \"Hello, World!\"\n",
        "print(a.replace(\"H\", \"J\"))"
      ],
      "execution_count": null,
      "outputs": [
        {
          "output_type": "stream",
          "text": [
            "Jello, World!\n"
          ],
          "name": "stdout"
        }
      ]
    },
    {
      "cell_type": "markdown",
      "metadata": {
        "id": "HoBM7TssuDC0"
      },
      "source": [
        "Output :\n",
        "```\n",
        "Jello, World!\n",
        "```"
      ]
    },
    {
      "cell_type": "code",
      "metadata": {
        "colab": {
          "base_uri": "https://localhost:8080/"
        },
        "id": "rtFRMDw3tLu8",
        "outputId": "0a8484b8-cc8b-4120-f435-3e9179f54d77"
      },
      "source": [
        "z = \"ON YOUR MARK\"\n",
        "print(z)\n",
        "print(z.replace(\"M\", \"P\")) "
      ],
      "execution_count": null,
      "outputs": [
        {
          "output_type": "stream",
          "text": [
            "ON YOUR MARK\n",
            "ON YOUR PARK\n"
          ],
          "name": "stdout"
        }
      ]
    },
    {
      "cell_type": "markdown",
      "metadata": {
        "id": "HENcWNGouzZQ"
      },
      "source": [
        "###Split()\n",
        "#####Metode split () membagi string menjadi beberapa substring jika menemukan contoh pemisah:"
      ]
    },
    {
      "cell_type": "code",
      "metadata": {
        "id": "lZOPF8zNfzUz",
        "colab": {
          "base_uri": "https://localhost:8080/"
        },
        "outputId": "cc6bec21-d96f-4b86-af98-ffcf4236f74d"
      },
      "source": [
        "#Contoh\n",
        "a = \"Hello, World!\"\n",
        "print(a.split(\",\")) # returns ['Hello', ' World!']"
      ],
      "execution_count": null,
      "outputs": [
        {
          "output_type": "stream",
          "text": [
            "['Hello', ' World!']\n"
          ],
          "name": "stdout"
        }
      ]
    },
    {
      "cell_type": "markdown",
      "metadata": {
        "id": "7nCtdk1Du-m8"
      },
      "source": [
        "Output :\n",
        "```\n",
        "['Hello', ' World!']\n",
        "```"
      ]
    },
    {
      "cell_type": "code",
      "metadata": {
        "colab": {
          "base_uri": "https://localhost:8080/"
        },
        "id": "NmmYVQRFuG8C",
        "outputId": "b35c7e12-8dcd-42a2-f2d8-081057f0281c"
      },
      "source": [
        "z = \"ON YOUR, MARK\"\n",
        "print(z)\n",
        "print(z.split(\",\")) "
      ],
      "execution_count": null,
      "outputs": [
        {
          "output_type": "stream",
          "text": [
            "ON YOUR, MARK\n",
            "['ON YOUR', ' MARK']\n"
          ],
          "name": "stdout"
        }
      ]
    },
    {
      "cell_type": "markdown",
      "metadata": {
        "id": "TaxVOjwbvc6k"
      },
      "source": [
        "###Capitalize()\n",
        "#####Metode capitalize () menggantikan karakter pertama menjadi huruf kapital"
      ]
    },
    {
      "cell_type": "code",
      "metadata": {
        "id": "AKCjwL5pu6uA",
        "colab": {
          "base_uri": "https://localhost:8080/"
        },
        "outputId": "47e59737-d699-4919-8f85-5806242ba29a"
      },
      "source": [
        "#Contoh\n",
        "a = \"hello, world\"\n",
        "print(a.capitalize())"
      ],
      "execution_count": null,
      "outputs": [
        {
          "output_type": "stream",
          "text": [
            "Hello, world\n"
          ],
          "name": "stdout"
        }
      ]
    },
    {
      "cell_type": "markdown",
      "metadata": {
        "id": "2aTzRqgzwcd-"
      },
      "source": [
        "Output :\n",
        "```\n",
        "Hello, world\n",
        "```"
      ]
    },
    {
      "cell_type": "code",
      "metadata": {
        "colab": {
          "base_uri": "https://localhost:8080/"
        },
        "id": "X4nwQULHu5Mt",
        "outputId": "cb57cf36-7d84-4c8d-e022-ee7f4225f6a1"
      },
      "source": [
        "z = \"on your mark\"\n",
        "print(z)\n",
        "print(z.capitalize()) "
      ],
      "execution_count": null,
      "outputs": [
        {
          "output_type": "stream",
          "text": [
            "on your mark\n",
            "On your mark\n"
          ],
          "name": "stdout"
        }
      ]
    },
    {
      "cell_type": "markdown",
      "metadata": {
        "id": "lFk8jkgTw7Qc"
      },
      "source": [
        "###Casefold()\n",
        "#####Metode casefold () Mengubah string menjadi huruf kecil"
      ]
    },
    {
      "cell_type": "code",
      "metadata": {
        "id": "rqUVI0_QwQ9M",
        "colab": {
          "base_uri": "https://localhost:8080/"
        },
        "outputId": "c1e88684-63c3-4dfe-bbec-34fad0c107b8"
      },
      "source": [
        "#Contoh\n",
        "a = \"Hello, World\"\n",
        "print(a.casefold())"
      ],
      "execution_count": null,
      "outputs": [
        {
          "output_type": "stream",
          "text": [
            "hello, world\n"
          ],
          "name": "stdout"
        }
      ]
    },
    {
      "cell_type": "code",
      "metadata": {
        "colab": {
          "base_uri": "https://localhost:8080/"
        },
        "id": "j4ex_A5MvaVU",
        "outputId": "06ededb4-9e75-46d5-8fcf-b57fd4b8820b"
      },
      "source": [
        "z = \"oN yoUr mArk\"\n",
        "print(z)\n",
        "print(z.casefold()) "
      ],
      "execution_count": null,
      "outputs": [
        {
          "output_type": "stream",
          "text": [
            "oN yoUr mArk\n",
            "on your mark\n"
          ],
          "name": "stdout"
        }
      ]
    },
    {
      "cell_type": "markdown",
      "metadata": {
        "id": "uOJqg_Hhx7jM"
      },
      "source": [
        "###Count()\n",
        "#####Metode count () Mengembalikan frekuensi nilai yang ditentukan muncul dalam string"
      ]
    },
    {
      "cell_type": "code",
      "metadata": {
        "id": "X0BxqrG6zC3j",
        "colab": {
          "base_uri": "https://localhost:8080/"
        },
        "outputId": "e210ca57-02fa-4888-a6c5-9495ff3f2ce0"
      },
      "source": [
        "# definiskan string\n",
        "string = \"Python is awesome, isn't it?\"\n",
        "substring = \"is\"\n",
        "\n",
        "count = string.count(substring)\n",
        "\n",
        "# print count\n",
        "print(\"Jumlah :\", count)"
      ],
      "execution_count": null,
      "outputs": [
        {
          "output_type": "stream",
          "text": [
            "Jumlah : 2\n"
          ],
          "name": "stdout"
        }
      ]
    },
    {
      "cell_type": "markdown",
      "metadata": {
        "id": "c-107cVfCt-f"
      },
      "source": [
        "Output :\n",
        "```\n",
        "Jumlah : 2\n",
        "```"
      ]
    },
    {
      "cell_type": "code",
      "metadata": {
        "colab": {
          "base_uri": "https://localhost:8080/"
        },
        "id": "_GoW5wnBwOge",
        "outputId": "c5115956-af82-42bc-b5f1-78bed5efb3d4"
      },
      "source": [
        "string_a = \"on your markk, on your park\"\n",
        "substring_a = \"your\"\n",
        "\n",
        "count_a = string_a.count(substring_a)\n",
        "\n",
        "# print count\n",
        "print(\"Jumlah :\", count_a)"
      ],
      "execution_count": null,
      "outputs": [
        {
          "output_type": "stream",
          "text": [
            "Jumlah : 2\n"
          ],
          "name": "stdout"
        }
      ]
    },
    {
      "cell_type": "markdown",
      "metadata": {
        "id": "TK1BWNfmNmg9"
      },
      "source": [
        "###Encode()\n",
        "#####Metode encode () mengembalikan string yang berada di tengah"
      ]
    },
    {
      "cell_type": "code",
      "metadata": {
        "id": "Z3vdoZsq76n7",
        "colab": {
          "base_uri": "https://localhost:8080/"
        },
        "outputId": "f5dd046a-e9ac-408c-c2e0-390631d0e8de"
      },
      "source": [
        "a = \"My name is Mujhid\"\n",
        "\n",
        "x = a.encode()\n",
        "\n",
        "print(x)"
      ],
      "execution_count": null,
      "outputs": [
        {
          "output_type": "stream",
          "text": [
            "b'My name is Mujhid'\n"
          ],
          "name": "stdout"
        }
      ]
    },
    {
      "cell_type": "code",
      "metadata": {
        "colab": {
          "base_uri": "https://localhost:8080/"
        },
        "id": "jnD-GbGAwkcg",
        "outputId": "fbf62eb0-41a8-4b14-a2f5-d64edbb8ae0d"
      },
      "source": [
        "g = \"on your mark\"\n",
        "\n",
        "y = g.encode()\n",
        "\n",
        "print(y)"
      ],
      "execution_count": null,
      "outputs": [
        {
          "output_type": "stream",
          "text": [
            "b'on your mark'\n"
          ],
          "name": "stdout"
        }
      ]
    },
    {
      "cell_type": "markdown",
      "metadata": {
        "id": "qPgAcs3q03rJ"
      },
      "source": [
        "###Swapcase()\n",
        "#####Metode swapcase () untuk menukar kasus, huruf kecil menjadi huruf besar dan sebaliknya"
      ]
    },
    {
      "cell_type": "code",
      "metadata": {
        "id": "1aogmteyOBqW",
        "colab": {
          "base_uri": "https://localhost:8080/"
        },
        "outputId": "451ef915-7525-4ef0-c2a6-9bf66187a86a"
      },
      "source": [
        "a = \"My Name is Mujhid\"\n",
        "\n",
        "x = a.swapcase()\n",
        "\n",
        "print(x)"
      ],
      "execution_count": null,
      "outputs": [
        {
          "output_type": "stream",
          "text": [
            "mY nAME IS mUJHID\n"
          ],
          "name": "stdout"
        }
      ]
    },
    {
      "cell_type": "markdown",
      "metadata": {
        "id": "NygjfmV-GP04"
      },
      "source": [
        "Output :\n",
        "```\n",
        "mY nAME IS mUJHID\n",
        "```"
      ]
    },
    {
      "cell_type": "code",
      "metadata": {
        "colab": {
          "base_uri": "https://localhost:8080/"
        },
        "id": "IFXS08GjxcZf",
        "outputId": "88af59b4-eeb0-478e-d3f8-8626d02f9a83"
      },
      "source": [
        "b = \"Hello, My Name is Jeno\"\n",
        "\n",
        "y = b.swapcase()\n",
        "\n",
        "print(y)"
      ],
      "execution_count": null,
      "outputs": [
        {
          "output_type": "stream",
          "text": [
            "hELLO, mY nAME IS jENO\n"
          ],
          "name": "stdout"
        }
      ]
    },
    {
      "cell_type": "markdown",
      "metadata": {
        "id": "1bnoscP55UBZ"
      },
      "source": [
        "\n",
        "\n",
        "---\n",
        "\n",
        "\n",
        "# **Dictionary Pada Python**\n",
        "\n",
        "\n",
        "---\n",
        "\n",
        "\n",
        "Berbeda dengan List dan Tuple, didalam Dictionary Python setiap urutanya berisi key dan value yang bersifat tidak berurutan. \n",
        "1. Setiap key dipisahkan dari value-nya oleh titik dua (:)\n",
        "2. item dipisahkan oleh koma, dan semuanya tertutup dalam kurung kurawal. \n",
        "3. Dictionary kosong tanpa barang ditulis hanya dengan dua kurung kurawal, seperti ini: {}."
      ]
    },
    {
      "cell_type": "markdown",
      "metadata": {
        "id": "Qqi7EOUv8QlF"
      },
      "source": [
        "**Contoh 1:**\n"
      ]
    },
    {
      "cell_type": "code",
      "metadata": {
        "id": "9frE3t3c-VL5",
        "colab": {
          "base_uri": "https://localhost:8080/"
        },
        "outputId": "8c36d665-ffa2-445f-e30e-6ec7cc821b93"
      },
      "source": [
        "dict= {'Universitas' : 'UAD' , 'Prodi' : 'Matematika' , 'Tahun' : 2018 , 'NIM' : 180015065}\n",
        "print(type(dict))"
      ],
      "execution_count": null,
      "outputs": [
        {
          "output_type": "stream",
          "text": [
            "<class 'dict'>\n"
          ],
          "name": "stdout"
        }
      ]
    },
    {
      "cell_type": "markdown",
      "metadata": {
        "id": "cpN9v_hTCQ6w"
      },
      "source": [
        "Yuk coba buat dictionary kamu :)"
      ]
    },
    {
      "cell_type": "code",
      "metadata": {
        "id": "XGAZx3QiCWtQ",
        "colab": {
          "base_uri": "https://localhost:8080/"
        },
        "outputId": "483d6e6a-3850-4792-8d39-515e9efba038"
      },
      "source": [
        "#Membuat directory\n",
        "dict= {'u' : 'boss' , 'Prediksi' : 'Monte Carlo' , 'Klasifikasi' : 'Decision Tree' , 'NIM' : 180015102}\n",
        "print(type(dict))"
      ],
      "execution_count": null,
      "outputs": [
        {
          "output_type": "stream",
          "text": [
            "<class 'dict'>\n"
          ],
          "name": "stdout"
        }
      ]
    },
    {
      "cell_type": "markdown",
      "metadata": {
        "id": "wiTUsNTSAq-f"
      },
      "source": [
        "## Mengakses Nilai pada Dictionary\n",
        "Untuk mengakses elemen Dictionary, dapat menggunakan kurung siku yang berisi key ['key'] untuk mendapatkan value yang diinginkan."
      ]
    },
    {
      "cell_type": "code",
      "metadata": {
        "id": "B7K8CmX4BxV6",
        "colab": {
          "base_uri": "https://localhost:8080/"
        },
        "outputId": "e2d2fdf5-78a6-4823-a066-27121e9627d7"
      },
      "source": [
        "dict= {'Universitas' : 'UAD' , 'Prodi' : 'Matematika' , 'Tahun' : 2018 , 1800015065 : 'NIM'}\n",
        "print(type(dict))\n",
        "print(\"dict['Universitas'] = \", dict['Universitas'])\n",
        "print(\"dict['Prodi'] =\", dict['Prodi'])\n",
        "print(\"dict['Tahun'] =\", dict['Tahun'])\n",
        "print(\"dict[1800015065] = \", dict[1800015065])"
      ],
      "execution_count": null,
      "outputs": [
        {
          "output_type": "stream",
          "text": [
            "<class 'dict'>\n",
            "dict['Universitas'] =  UAD\n",
            "dict['Prodi'] = Matematika\n",
            "dict['Tahun'] = 2018\n",
            "dict[1800015065] =  NIM\n"
          ],
          "name": "stdout"
        }
      ]
    },
    {
      "cell_type": "markdown",
      "metadata": {
        "id": "0Ko2w5YXCeUH"
      },
      "source": [
        "Nah sekarang coba akses nilai di dictionary kamu, go go go"
      ]
    },
    {
      "cell_type": "code",
      "metadata": {
        "id": "zMOqnpFtCtBc",
        "colab": {
          "base_uri": "https://localhost:8080/"
        },
        "outputId": "52e4d56a-3fd1-46da-d025-ded93b76c3e3"
      },
      "source": [
        "#Mengakses nilai directory\n",
        "dict= {'u' : 'boss' , 'Prediksi' : 'Monte Carlo' , 'Dream' : 119 , 1800015102 : 'NIM' }\n",
        "print(type(dict))\n",
        "print(\"dict['u'] = \", dict['u'])\n",
        "print(\"dict['Prediksi'] =\", dict['Prediksi'])\n",
        "print(\"dict['Dream'] =\", dict['Dream'])\n",
        "print(\"dict[1800015102] = \", dict[1800015102])\n"
      ],
      "execution_count": null,
      "outputs": [
        {
          "output_type": "stream",
          "text": [
            "<class 'dict'>\n",
            "dict['u'] =  boss\n",
            "dict['Prediksi'] = Monte Carlo\n",
            "dict['Dream'] = 119\n",
            "dict[1800015102] =  NIM\n"
          ],
          "name": "stdout"
        }
      ]
    },
    {
      "cell_type": "markdown",
      "metadata": {
        "id": "UzGJBTYWF9Wz"
      },
      "source": [
        "## Mengubah Nilai pada Dictionary\n",
        "Anda dapat memperbarui Dictionary dengan menambahkan entri baru atau pasangan nilai kunci, memodifikasi entri yang ada, atau menghapus entri yang ada"
      ]
    },
    {
      "cell_type": "code",
      "metadata": {
        "id": "ZkMuE6xJGGzq",
        "colab": {
          "base_uri": "https://localhost:8080/"
        },
        "outputId": "40e656c1-928c-42c8-a22d-3ffd160a8e68"
      },
      "source": [
        "dict= {'Universitas' : 'UAD' , 'Prodi' : 'Matematika' , 'Tahun' : 2018 , 1800015065 : 'NIM'}\n",
        "dict[1800015065] = 'Bukan NIM' #Mengubah entri atau value yang sudah ada\n",
        "dict['Universitas'] = 'UGM' #Menambah entri atau value\n",
        "print(\"dict[1800015065] =\", dict[1800015065]);\n",
        "print(\"dict['Universitas'] =\", dict['Universitas']);"
      ],
      "execution_count": null,
      "outputs": [
        {
          "output_type": "stream",
          "text": [
            "dict[1800015065] = Bukan NIM\n",
            "dict['Universitas'] = UGM\n"
          ],
          "name": "stdout"
        }
      ]
    },
    {
      "cell_type": "code",
      "metadata": {
        "id": "vX3rYRdjL6GF",
        "colab": {
          "base_uri": "https://localhost:8080/"
        },
        "outputId": "706810e1-55f4-4194-eb49-216110e43755"
      },
      "source": [
        "thisdict = {\n",
        "    \"brand\" : \"Toyota\",\n",
        "    \"model\" : \"Kijang\",\n",
        "    \"year\" : 2004\n",
        "}\n",
        "print(thisdict)"
      ],
      "execution_count": null,
      "outputs": [
        {
          "output_type": "stream",
          "text": [
            "{'brand': 'Toyota', 'model': 'Kijang', 'year': 2004}\n"
          ],
          "name": "stdout"
        }
      ]
    },
    {
      "cell_type": "markdown",
      "metadata": {
        "id": "47jIA7JvC2sL"
      },
      "source": [
        "Sekarang sudah tau kan kalo nilai dictionary bisa diubah dan kalian sudah paham kan gimana ngubahnya, yuk dicoba dulu biar makin paham :)"
      ]
    },
    {
      "cell_type": "code",
      "metadata": {
        "id": "1gGuQpm1DPSN",
        "colab": {
          "base_uri": "https://localhost:8080/"
        },
        "outputId": "ac5af827-7f35-4386-88a5-b809e6e79b89"
      },
      "source": [
        "#Mengubah nilai directory\n",
        "dict= {'Prediksi' : 'Monte Carlo' , 'Dream' : 119 , 1800015102 : 'NIM'}\n",
        "dict[1800015102] = 'Bukan No. Rumah' #Mengubah entri atau value yang sudah ada\n",
        "dict['Dream'] = 'Fireflies' #Menambah entri atau value\n",
        "print(\"dict[1800015102] =\", dict[1800015102]);\n",
        "print(\"dict['Dream'] =\", dict['Dream']);\n"
      ],
      "execution_count": null,
      "outputs": [
        {
          "output_type": "stream",
          "text": [
            "dict[1800015102] = Bukan No. Rumah\n",
            "dict['Dream'] = Fireflies\n"
          ],
          "name": "stdout"
        }
      ]
    },
    {
      "cell_type": "markdown",
      "metadata": {
        "id": "hBFir8xVLg5o"
      },
      "source": [
        "## Loop Melalui Dictionary\n",
        "\n",
        "Pada bagian Pengulangan melalui Dictionary, kita dapat melakukan Loop(Pengulangan) melalui Dictionary dengan menggunakan **for** loop.\n",
        "\n",
        "Saat melakukan pengulangan melalui Dictionary, nilai yang dikembalikan adalah kunci dari Dictionary, tetapi terdapat metode untuk mengembalikan nilai\n",
        "\n",
        "Sebagai contoh :\n",
        "Print semua nama kunci dalam Dictionary satu per satu"
      ]
    },
    {
      "cell_type": "code",
      "metadata": {
        "id": "EsK_xCfaMBwW",
        "colab": {
          "base_uri": "https://localhost:8080/"
        },
        "outputId": "04df7287-22e5-4121-9d75-b81f62a28cf4"
      },
      "source": [
        "for x in thisdict:\n",
        "  print(x)"
      ],
      "execution_count": null,
      "outputs": [
        {
          "output_type": "stream",
          "text": [
            "brand\n",
            "model\n",
            "year\n"
          ],
          "name": "stdout"
        }
      ]
    },
    {
      "cell_type": "markdown",
      "metadata": {
        "id": "vBPM3O_CMHmd"
      },
      "source": [
        "**Contoh 2:**\n",
        "\n",
        "Print semua *nilai* dalam Dictionary satu per satu"
      ]
    },
    {
      "cell_type": "code",
      "metadata": {
        "id": "zC1X4W8_MMDf",
        "colab": {
          "base_uri": "https://localhost:8080/"
        },
        "outputId": "3e8d41a4-b1d9-4ebe-dab9-052b8620d612"
      },
      "source": [
        "for x in thisdict:\n",
        "  print(thisdict[x])"
      ],
      "execution_count": null,
      "outputs": [
        {
          "output_type": "stream",
          "text": [
            "Toyota\n",
            "Kijang\n",
            "2004\n"
          ],
          "name": "stdout"
        }
      ]
    },
    {
      "cell_type": "markdown",
      "metadata": {
        "id": "CTX8JbrdMQHG"
      },
      "source": [
        "**Contoh 3:**\n",
        "\n",
        "Kita juga dapat menggunakan **values()** yang merupakan metode untuk mengembalikan nilai Dictionary"
      ]
    },
    {
      "cell_type": "code",
      "metadata": {
        "id": "P4sF4NJwMVKi",
        "colab": {
          "base_uri": "https://localhost:8080/"
        },
        "outputId": "e1c3221b-cd21-4e2e-b6fa-924ededae1f3"
      },
      "source": [
        "for x in thisdict.values():\n",
        "  print(x)"
      ],
      "execution_count": null,
      "outputs": [
        {
          "output_type": "stream",
          "text": [
            "Toyota\n",
            "Kijang\n",
            "2004\n"
          ],
          "name": "stdout"
        }
      ]
    },
    {
      "cell_type": "markdown",
      "metadata": {
        "id": "Vw6KRxXUMYdk"
      },
      "source": [
        "**Contoh 4:**\n",
        "\n",
        "Ulangi kedua kunci dan nilai, dengan menggunakan metode **items()**:"
      ]
    },
    {
      "cell_type": "code",
      "metadata": {
        "id": "R0LHvTdCMciA",
        "colab": {
          "base_uri": "https://localhost:8080/"
        },
        "outputId": "6f922b5b-ce70-4242-dd28-f5dcbb2e69ca"
      },
      "source": [
        "for x, y in thisdict.items():\n",
        "  print(x, y)"
      ],
      "execution_count": null,
      "outputs": [
        {
          "output_type": "stream",
          "text": [
            "brand Toyota\n",
            "model Kijang\n",
            "year 2004\n"
          ],
          "name": "stdout"
        }
      ]
    },
    {
      "cell_type": "markdown",
      "metadata": {
        "id": "PLi6zJNRDjpd"
      },
      "source": [
        "Di atas sudah diberikan contoh loop melalui directory menggunakan berbagai cara, sekarang kalian coba biar makin paham"
      ]
    },
    {
      "cell_type": "code",
      "metadata": {
        "id": "k2wcRN_8EAJX"
      },
      "source": [
        "#Loop Melalui Directory\n",
        "\n"
      ],
      "execution_count": null,
      "outputs": []
    },
    {
      "cell_type": "markdown",
      "metadata": {
        "id": "xT7pJUjFMi_B"
      },
      "source": [
        "## Mengecek keanggotaan suatu key\n",
        "Untuk menentukan apakah kunci tertentu ada dalam Dictionary gunakan **in** sebagai kunci"
      ]
    },
    {
      "cell_type": "markdown",
      "metadata": {
        "id": "naFLmYYzMtOp"
      },
      "source": [
        "**Contoh 6:**\n",
        "\n",
        "Cek jika \"model\" terdapat pada Dictionary"
      ]
    },
    {
      "cell_type": "code",
      "metadata": {
        "id": "8flzqPCTMvAm",
        "colab": {
          "base_uri": "https://localhost:8080/"
        },
        "outputId": "b50ff53b-01c3-46fb-f775-fff4757e5591"
      },
      "source": [
        "thisdict = {\n",
        "    \"brand\" : \"Toyota\",\n",
        "    \"model\" : \"Kijang\",\n",
        "    \"tahun\" : 2004\n",
        "}\n",
        "if \"model\" in thisdict :\n",
        "  print(\"Yes, 'model' adalah salah satu dari kunci dalam distict dictionary\")"
      ],
      "execution_count": null,
      "outputs": [
        {
          "output_type": "stream",
          "text": [
            "Yes, 'model' adalah salah satu dari kunci dalam distict dictionary\n"
          ],
          "name": "stdout"
        }
      ]
    },
    {
      "cell_type": "markdown",
      "metadata": {
        "id": "IUOIUwOYEQuR"
      },
      "source": [
        "Sekarang kalian coba deh cek keanggotaan suatu key yang ada di dictionary kalian, siapa tahu bukan merupakan anggota kan, bisa jadi penyusup xixixi"
      ]
    },
    {
      "cell_type": "code",
      "metadata": {
        "id": "K85KcpLaEsBH",
        "colab": {
          "base_uri": "https://localhost:8080/"
        },
        "outputId": "2ddfbb41-497b-4924-f0ef-000d398bcb7f"
      },
      "source": [
        "#Mengecek keanggotaan suatu key\n",
        "dictionary = {\n",
        "    \"place of birth\" : \"Incheon\",\n",
        "    \"month\" : \"April\",\n",
        "    \"tahun\" : 2000\n",
        "}\n",
        "if \"model\" in dictionary :\n",
        "  print(\"Yes, 'model' adalah salah satu dari kunci dalam distict dictionary\")\n",
        "else :\n",
        "  print(\"'model' bukan salah satu kunci dalam district dictionary\")"
      ],
      "execution_count": null,
      "outputs": [
        {
          "output_type": "stream",
          "text": [
            "'model' bukan salah satu kunci dalam district dictionary\n"
          ],
          "name": "stdout"
        }
      ]
    },
    {
      "cell_type": "markdown",
      "metadata": {
        "id": "NeXUQXjZOBOv"
      },
      "source": [
        "## Menambah Item"
      ]
    },
    {
      "cell_type": "markdown",
      "metadata": {
        "id": "-DeukrFUOOJ2"
      },
      "source": [
        "Untuk menambahkan item, kita dapat menggunakan kunci index baru dengan langsung memberikan nilainya. Untuk contohnya, bisa dilihat kode di bawah ini yaa :)"
      ]
    },
    {
      "cell_type": "code",
      "metadata": {
        "id": "pCnst7TaOPOE",
        "colab": {
          "base_uri": "https://localhost:8080/"
        },
        "outputId": "07d03012-e3cb-47bb-a2af-6ab6e7bf85f6"
      },
      "source": [
        "thisdict = {'Name': 'Zara', 'Age': 7, 'Class': 'First'}\n",
        "\n",
        "thisdict['School'] = \"DPS School\" # Menambah entri baru pada thisdict\n",
        "\n",
        "print (thisdict)"
      ],
      "execution_count": null,
      "outputs": [
        {
          "output_type": "stream",
          "text": [
            "{'Name': 'Zara', 'Age': 7, 'Class': 'First', 'School': 'DPS School'}\n"
          ],
          "name": "stdout"
        }
      ]
    },
    {
      "cell_type": "markdown",
      "metadata": {
        "id": "5mHe4zJJOaFJ"
      },
      "source": [
        "Selain menggunakan format di atas, untuk menambahkan item kita juga bisa menggunakan method update()."
      ]
    },
    {
      "cell_type": "code",
      "metadata": {
        "id": "P3ODwqpeObGi",
        "colab": {
          "base_uri": "https://localhost:8080/"
        },
        "outputId": "56b5b888-38c8-4dfc-9ea9-e2161a55aa70"
      },
      "source": [
        "thisdict = {'Name': 'Zara', 'Age': 7, 'Class': 'First'}\n",
        "\n",
        "thisdict.update({\"School\": \"DPS School\"}) #Menambah item baru pada thisdict\n",
        "\n",
        "print(thisdict)"
      ],
      "execution_count": null,
      "outputs": [
        {
          "output_type": "stream",
          "text": [
            "{'Name': 'Zara', 'Age': 7, 'Class': 'First', 'School': 'DPS School'}\n"
          ],
          "name": "stdout"
        }
      ]
    },
    {
      "cell_type": "markdown",
      "metadata": {
        "id": "vES-HR3hE0-f"
      },
      "source": [
        "Nah iya nih dalam menambah item baru pada dictionary bisa dilakukan dengan 2 cara, menurut kalian mudah yang mana, dicoba dulu biar tahu rasanya hohoho"
      ]
    },
    {
      "cell_type": "code",
      "metadata": {
        "id": "ORxfmwHgFCwT",
        "colab": {
          "base_uri": "https://localhost:8080/"
        },
        "outputId": "e36ee7b0-ccaa-47cb-cd7d-73ae4d0c7744"
      },
      "source": [
        "#Menambah item baru pada dictionary\n",
        "dictionary = {\n",
        "    \"place of birth\" : \"Incheon\",\n",
        "    \"month\" : \"April\",\n",
        "    \"year\" : 2000\n",
        "}\n",
        "dictionary['date'] = 23\n",
        "print(dictionary)\n",
        "dictionary.update({'Name' : 'LJN'})\n",
        "print(dictionary)"
      ],
      "execution_count": null,
      "outputs": [
        {
          "output_type": "stream",
          "text": [
            "{'place of birth': 'Incheon', 'month': 'April', 'year': 2000, 'date': 23}\n",
            "{'place of birth': 'Incheon', 'month': 'April', 'year': 2000, 'date': 23, 'Name': 'LJN'}\n"
          ],
          "name": "stdout"
        }
      ]
    },
    {
      "cell_type": "markdown",
      "metadata": {
        "id": "UztNPpTNOjkS"
      },
      "source": [
        "## Menghapus Item"
      ]
    },
    {
      "cell_type": "markdown",
      "metadata": {
        "id": "ZrrLJx6SOlQF"
      },
      "source": [
        "Untuk menghapus item yang ada pada Dictionary, kita bisa menggunakan perintah del, method pop(), method popitem(), dan method clear().\n",
        "\n",
        "- Fungsi del adalah fungsi untuk menghapus suatu variabel dari memori.\n",
        "\n",
        "- Method pop() adalah method yang berfungsi untuk mengeluarkan item yang diinginkan dari dictionary.\n",
        "\n",
        "- Method popitem() adalah method yang digunakan untuk menghapus item yang terakhir.\n",
        "\n",
        "- Method clear() adalah method yang digunakan untuk mengosongkan dictionary."
      ]
    },
    {
      "cell_type": "code",
      "metadata": {
        "id": "Tv2i5H42OsIk",
        "colab": {
          "base_uri": "https://localhost:8080/"
        },
        "outputId": "287b12f4-854c-4592-faee-d1e012b29908"
      },
      "source": [
        "#Menghapus item menggunakan del\n",
        "thisdict = {'Name': 'Zara', 'Age': 7, 'Class': 'First'}\n",
        "del thisdict[\"Name\"]\n",
        "\n",
        "print(thisdict)"
      ],
      "execution_count": null,
      "outputs": [
        {
          "output_type": "stream",
          "text": [
            "{'Age': 7, 'Class': 'First'}\n"
          ],
          "name": "stdout"
        }
      ]
    },
    {
      "cell_type": "code",
      "metadata": {
        "id": "5tHFrmvsOzKw",
        "colab": {
          "base_uri": "https://localhost:8080/"
        },
        "outputId": "0bcedee1-3da2-49c6-f409-e953e550b76a"
      },
      "source": [
        "#Menghapus item menggunakan method pop()\n",
        "thisdict = {'Name': 'Zara', 'Age': 7, 'Class': 'First'}\n",
        "thisdict.pop(\"Age\")\n",
        "\n",
        "print(thisdict)"
      ],
      "execution_count": null,
      "outputs": [
        {
          "output_type": "stream",
          "text": [
            "{'Name': 'Zara', 'Class': 'First'}\n"
          ],
          "name": "stdout"
        }
      ]
    },
    {
      "cell_type": "code",
      "metadata": {
        "id": "2wR2qAe1O0_p",
        "colab": {
          "base_uri": "https://localhost:8080/"
        },
        "outputId": "3ad1ab2c-68af-4780-dd84-b189baf2b40f"
      },
      "source": [
        "#Menghapus item menggunakan method popitem()\n",
        "thisdict = {'Name': 'Zara', 'Age': 7, 'Class': 'First'}\n",
        "thisdict.popitem()\n",
        "\n",
        "print(thisdict)"
      ],
      "execution_count": null,
      "outputs": [
        {
          "output_type": "stream",
          "text": [
            "{'Name': 'Zara', 'Age': 7}\n"
          ],
          "name": "stdout"
        }
      ]
    },
    {
      "cell_type": "code",
      "metadata": {
        "id": "obesr1UqO_u5",
        "colab": {
          "base_uri": "https://localhost:8080/"
        },
        "outputId": "793cedce-f4eb-4133-b663-f5fc07c34052"
      },
      "source": [
        "#Menghapus item menggunakan method clear()\n",
        "thisdict = {'Name': 'Zara', 'Age': 7, 'Class': 'First'}\n",
        "thisdict.clear()\n",
        "\n",
        "print(thisdict)"
      ],
      "execution_count": null,
      "outputs": [
        {
          "output_type": "stream",
          "text": [
            "{}\n"
          ],
          "name": "stdout"
        }
      ]
    },
    {
      "cell_type": "markdown",
      "metadata": {
        "id": "VfK6RhraFOoQ"
      },
      "source": [
        "Dan kalo menghapus dictionary ternyata ada 4 cara lohh, pada contoh di atas sudah jelas kan, supaya tambah jelas silahkan dicoba yaa ;)"
      ]
    },
    {
      "cell_type": "code",
      "metadata": {
        "id": "1-BGdhElFert",
        "colab": {
          "base_uri": "https://localhost:8080/"
        },
        "outputId": "15510ac1-9cdf-494d-c468-d2e771758310"
      },
      "source": [
        "dictionary = {\n",
        "    \"place of birth\" : \"Incheon\",\n",
        "    \"month\" : \"April\",\n",
        "    \"year\" : 2000\n",
        "    }\n",
        "print(dictionary)\n",
        "\n",
        "dictionary['date'] = 23\n",
        "print(dictionary)\n",
        "\n",
        "dictionary.update({'Name' : 'LJN'})\n",
        "print(dictionary)\n",
        "\n",
        "#Menghapus item menggunakan del\n",
        "del dictionary[\"place of birth\"]\n",
        "print(dictionary)\n",
        "\n",
        "#Menghapus item menggunapak method pop()\n",
        "dictionary.pop('Name')\n",
        "print(dictionary)\n",
        "\n",
        "#Menghapus item menggunakan method popitem()\n",
        "dictionary.popitem()\n",
        "print(dictionary)\n",
        "\n",
        "#Menghapus item menggunakan method clear()\n",
        "dictionary.clear()\n",
        "print(dictionary)"
      ],
      "execution_count": null,
      "outputs": [
        {
          "output_type": "stream",
          "text": [
            "{'place of birth': 'Incheon', 'month': 'April', 'year': 2000}\n",
            "{'place of birth': 'Incheon', 'month': 'April', 'year': 2000, 'date': 23}\n",
            "{'place of birth': 'Incheon', 'month': 'April', 'year': 2000, 'date': 23, 'Name': 'LJN'}\n",
            "{'month': 'April', 'year': 2000, 'date': 23, 'Name': 'LJN'}\n",
            "{'month': 'April', 'year': 2000, 'date': 23}\n",
            "{'month': 'April', 'year': 2000}\n",
            "{}\n"
          ],
          "name": "stdout"
        }
      ]
    },
    {
      "cell_type": "markdown",
      "metadata": {
        "id": "yw-oOwJyPIFA"
      },
      "source": [
        "## Menyalin Dictionary"
      ]
    },
    {
      "cell_type": "markdown",
      "metadata": {
        "id": "ijhQx7qmPgcF"
      },
      "source": [
        "Untuk menyalin dictionary, kita dapat menggunakan method copy()."
      ]
    },
    {
      "cell_type": "code",
      "metadata": {
        "id": "Q-CWNgUuPPqg",
        "colab": {
          "base_uri": "https://localhost:8080/"
        },
        "outputId": "3048cded-b8df-464e-b83f-6e2b6632a5fb"
      },
      "source": [
        "#Menggunakan method copy()\n",
        "thisdict = {'Name': 'Zara', 'Age': 7, 'Class': 'First'}\n",
        "mydict=thisdict.copy()\n",
        "\n",
        "print(mydict)"
      ],
      "execution_count": null,
      "outputs": [
        {
          "output_type": "stream",
          "text": [
            "{'Name': 'Zara', 'Age': 7, 'Class': 'First'}\n"
          ],
          "name": "stdout"
        }
      ]
    },
    {
      "cell_type": "markdown",
      "metadata": {
        "id": "VhzUKxt8Ghg_"
      },
      "source": [
        "Yuk coba salin dictionary yang telah kalian buat tadi, biar bisa diotak atik lagi xixixi"
      ]
    },
    {
      "cell_type": "code",
      "metadata": {
        "id": "cYpu8BnOGfnZ",
        "colab": {
          "base_uri": "https://localhost:8080/"
        },
        "outputId": "7b532eb8-27c8-4206-8b59-041bb2010dbc"
      },
      "source": [
        "#Menyalin dictionary\n",
        "dictionary = {\n",
        "    \"place of birth\" : \"Incheon\",\n",
        "    \"month\" : \"April\",\n",
        "    \"year\" : 2000\n",
        "}\n",
        "dictionary['date'] = 23\n",
        "print(dictionary)\n",
        "\n",
        "dictionary.update({'Name' : 'LJN'})\n",
        "print(dictionary)\n",
        "\n",
        "mydoc = dictionary.copy()\n",
        "print(mydoc)"
      ],
      "execution_count": null,
      "outputs": [
        {
          "output_type": "stream",
          "text": [
            "{'place of birth': 'Incheon', 'month': 'April', 'year': 2000, 'date': 23}\n",
            "{'place of birth': 'Incheon', 'month': 'April', 'year': 2000, 'date': 23, 'Name': 'LJN'}\n",
            "{'place of birth': 'Incheon', 'month': 'April', 'year': 2000, 'date': 23, 'Name': 'LJN'}\n"
          ],
          "name": "stdout"
        }
      ]
    },
    {
      "cell_type": "markdown",
      "metadata": {
        "id": "HapRCuUdJcal"
      },
      "source": [
        "## Nested Dictionary\n",
        "Nested Dictionary atau kamus bertingkat merupakan suatu kamus yang mana kamus tersebut bisa diisi dengan satu atau lebih kamus di dalamnya.\n",
        "\n",
        "Kita akan membuat sebuah contoh Kamus yang memuat 3 kamus di dalamnya"
      ]
    },
    {
      "cell_type": "code",
      "metadata": {
        "id": "a7HX1DVFJiQN",
        "colab": {
          "base_uri": "https://localhost:8080/"
        },
        "outputId": "571b9152-9bd8-441b-950e-325a86d452a0"
      },
      "source": [
        "Keluarga_afif={\n",
        "    \"ibu\":{\n",
        "        \"nama\":\"dera\",\n",
        "        \"Tanggal Lahir\": 19012000\n",
        "    },\n",
        "    \"anak1\":{\n",
        "        \"nama\":\"Joko\",\n",
        "        \"Tanggal Lahir\": 17091997 \n",
        "    },\n",
        "    \"anak2\":{\n",
        "        \"nama\":\"Asih\",\n",
        "        \"Tanggal Lahir\": 20022000\n",
        "    }\n",
        "}\n",
        "\n",
        "print(Keluarga_afif)"
      ],
      "execution_count": null,
      "outputs": [
        {
          "output_type": "stream",
          "text": [
            "{'ibu': {'nama': 'dera', 'Tanggal Lahir': 19012000}, 'anak1': {'nama': 'Joko', 'Tanggal Lahir': 17091997}, 'anak2': {'nama': 'Asih', 'Tanggal Lahir': 20022000}}\n"
          ],
          "name": "stdout"
        }
      ]
    },
    {
      "cell_type": "markdown",
      "metadata": {
        "id": "R43exLqhJpmv"
      },
      "source": [
        "Kita akan membuat suatu Kamus yang akan berisi 3 kamus lainnya"
      ]
    },
    {
      "cell_type": "code",
      "metadata": {
        "id": "SV-t3qX-Jz7P",
        "colab": {
          "base_uri": "https://localhost:8080/"
        },
        "outputId": "027097bb-4829-4fa0-b7a5-55a208b1aeb4"
      },
      "source": [
        "anak1={\"nama\":\"Rikma\",\"Tanggal Lahir\":19012000}\n",
        "anak2={\"nama\":\"Joko\",\"Tanggal Lahir\":17091997}\n",
        "anak3={\"nama\":\"Asih\",\"Tanggal Lahir\":20022000}\n",
        "\n",
        "Keluarga_afif={\"anak1\":anak1,\"anak2\":anak2,\"anak3\":anak3}\n",
        "print(Keluarga_afif)"
      ],
      "execution_count": null,
      "outputs": [
        {
          "output_type": "stream",
          "text": [
            "{'anak1': {'nama': 'Rikma', 'Tanggal Lahir': 19012000}, 'anak2': {'nama': 'Joko', 'Tanggal Lahir': 17091997}, 'anak3': {'nama': 'Asih', 'Tanggal Lahir': 20022000}}\n"
          ],
          "name": "stdout"
        }
      ]
    },
    {
      "cell_type": "markdown",
      "metadata": {
        "id": "rn1_pOZ3J5Z2"
      },
      "source": [
        "Atau kita juga dapat menggunakan fungsi dict() untuk membuat kamus yang baru"
      ]
    },
    {
      "cell_type": "code",
      "metadata": {
        "id": "_Iuj4TapKq3j",
        "colab": {
          "base_uri": "https://localhost:8080/",
          "height": 191
        },
        "outputId": "686fd71a-1cef-4058-f169-775195ff918b"
      },
      "source": [
        "Indoapril = dict(barang='Minuman',merek='BearBrand',harga=7000)\n",
        "#Perlu di perhatikan  bahwa dalam fungsi dict() kita tidak lagi memakai kolon (:) tetapi menggunakan sama dengan (=)\n",
        "print(Indoapril)"
      ],
      "execution_count": null,
      "outputs": [
        {
          "output_type": "error",
          "ename": "TypeError",
          "evalue": "ignored",
          "traceback": [
            "\u001b[0;31m---------------------------------------------------------------------------\u001b[0m",
            "\u001b[0;31mTypeError\u001b[0m                                 Traceback (most recent call last)",
            "\u001b[0;32m<ipython-input-87-4080f2c40fe4>\u001b[0m in \u001b[0;36m<module>\u001b[0;34m()\u001b[0m\n\u001b[0;32m----> 1\u001b[0;31m \u001b[0mIndoapril\u001b[0m \u001b[0;34m=\u001b[0m \u001b[0mdict\u001b[0m\u001b[0;34m(\u001b[0m\u001b[0mbarang\u001b[0m\u001b[0;34m=\u001b[0m\u001b[0;34m'Minuman'\u001b[0m\u001b[0;34m,\u001b[0m\u001b[0mmerek\u001b[0m\u001b[0;34m=\u001b[0m\u001b[0;34m'BearBrand'\u001b[0m\u001b[0;34m,\u001b[0m\u001b[0mharga\u001b[0m\u001b[0;34m=\u001b[0m\u001b[0;36m7000\u001b[0m\u001b[0;34m)\u001b[0m\u001b[0;34m\u001b[0m\u001b[0;34m\u001b[0m\u001b[0m\n\u001b[0m\u001b[1;32m      2\u001b[0m \u001b[0;31m#Perlu di perhatikan  bahwa dalam fungsi dict() kita tidak lagi memakai kolon (:) tetapi menggunakan sama dengan (=)\u001b[0m\u001b[0;34m\u001b[0m\u001b[0;34m\u001b[0m\u001b[0;34m\u001b[0m\u001b[0m\n\u001b[1;32m      3\u001b[0m \u001b[0mprint\u001b[0m\u001b[0;34m(\u001b[0m\u001b[0mIndoapril\u001b[0m\u001b[0;34m)\u001b[0m\u001b[0;34m\u001b[0m\u001b[0;34m\u001b[0m\u001b[0m\n",
            "\u001b[0;31mTypeError\u001b[0m: 'dict' object is not callable"
          ]
        }
      ]
    },
    {
      "cell_type": "markdown",
      "metadata": {
        "id": "hqro2QmYG3pA"
      },
      "source": [
        "Paham belum nih tentang materi nested dictionary, coba sekarang kalian buat dan pahami, nanti pasti paham kalo udah nyoba ;)"
      ]
    },
    {
      "cell_type": "code",
      "metadata": {
        "id": "D9WDIcsaPysc",
        "colab": {
          "base_uri": "https://localhost:8080/"
        },
        "outputId": "ac4c9dda-69e1-4297-889f-2985abe5ed40"
      },
      "source": [
        "#Nested dictionary\n",
        "wilayah1={\"Kode Pos\" : 55764, \"Kec\" : \"Bambanglipuro\",\"Kab\": \"Bantul\"}\n",
        "wilayah2={\"Kode Pos\" : 55651, \"Kec\" : \"Wates\", \"Kab\": \"Kulon Progo\"}\n",
        "wilayah3={\"Kode Pos\" : 55163, \"Kec\" : \"Umbulharjo\",\"Kab/Kota\": \"Yogyakarta\"}\n",
        "\n",
        "Jogja={\"wilayah 1\" : wilayah1, \"wilayah 2\" : wilayah2, \"wilayah 3\" : wilayah3}\n",
        "print(Jogja)\n"
      ],
      "execution_count": null,
      "outputs": [
        {
          "output_type": "stream",
          "text": [
            "{'wilayah 1': {'Kode Pos': 55764, 'Kec': 'Bambanglipuro', 'Kab': 'Bantul'}, 'wilayah 2': {'Kode Pos': 55651, 'Kec': 'Wates', 'Kab': 'Kulon Progo'}, 'wilayah 3': {'Kode Pos': 55163, 'Kec': 'Umbulharjo', 'Kab/Kota': 'Yogyakarta'}}\n"
          ],
          "name": "stdout"
        }
      ]
    },
    {
      "cell_type": "markdown",
      "metadata": {
        "id": "PP7KHpy-ymYq"
      },
      "source": [
        "\n",
        "\n",
        "---\n",
        "\n",
        "\n",
        "#**Berbagai Method untuk Dictionary**\n",
        "\n",
        "---\n",
        "\n"
      ]
    },
    {
      "cell_type": "markdown",
      "metadata": {
        "id": "hzM9fg8rILk9"
      },
      "source": [
        "- clear() : Menghapus semua elemen dictionary\n",
        "- copy() : Mengembalikan salinan dictionary\n",
        "- fromkeys() : Buat Dictionary baru dengan kunci dari seq dan nilai yang disetel ke nilai.\n",
        "- get() : Mengembalikan nilai dari kunci yang ditentukan\n",
        "- items() : Mengembalikan daftar dari pasangan tuple dictionary (key, value)\n",
        "- keys() : Mengembalikan daftar key dictionary\n",
        "- pop() : Menghapus item kunci yang disebutkan\n",
        "- popitem() : Menghapus item yang terakhir dimasukkan\n",
        "- setdefault() : Mengembalikan nilai dari kunci yang ditentukan. Jika kunci tidak ada: masukkan kunci dengan nilai yang ditentukan\n",
        "- update() : Menambah pasangan kunci yang diinginkan\n",
        "- values() : Mengembalikan daftar nilai dictionary"
      ]
    },
    {
      "cell_type": "markdown",
      "metadata": {
        "id": "Sacny0IzM1xc"
      },
      "source": [
        "## Clear()\n",
        "Untuk menghapus semua item/elemen yang termuat didalam dictionary, gunakan fungsi **clear()**\n",
        "\n",
        "dictionary.clear\n",
        "\n",
        "print(dictionary)"
      ]
    },
    {
      "cell_type": "code",
      "metadata": {
        "id": "aDt2u6E1OJK-",
        "colab": {
          "base_uri": "https://localhost:8080/"
        },
        "outputId": "8c0bda5a-07b3-40d2-fe8b-3b21311f598b"
      },
      "source": [
        "dict= {'Universitas' : 'UAD' , 'Prodi' : 'Matematika' , 'Tahun' : 2018 , 1800015065 : 'NIM'}\n",
        "dict.clear()\n",
        "print(dict)"
      ],
      "execution_count": null,
      "outputs": [
        {
          "output_type": "stream",
          "text": [
            "{}\n"
          ],
          "name": "stdout"
        }
      ]
    },
    {
      "cell_type": "markdown",
      "metadata": {
        "id": "_AGp8ZqbMnws"
      },
      "source": [
        "## Copy()\n",
        "Untuk mengcopy/menyalin item didalam dictionary, bisa digunakan fungsi **copy()**"
      ]
    },
    {
      "cell_type": "code",
      "metadata": {
        "id": "56NFeeSSNOVo",
        "colab": {
          "base_uri": "https://localhost:8080/"
        },
        "outputId": "3d87ace6-facd-427e-cb8c-76d067c5c59f"
      },
      "source": [
        "dict= {'Universitas' : 'UAD' , 'Prodi' : 'Matematika' , 'Tahun' : 2018 , 1800015065 : 'NIM'}\n",
        "C=dict.copy()\n",
        "print(C)"
      ],
      "execution_count": null,
      "outputs": [
        {
          "output_type": "stream",
          "text": [
            "{'Universitas': 'UAD', 'Prodi': 'Matematika', 'Tahun': 2018, 1800015065: 'NIM'}\n"
          ],
          "name": "stdout"
        }
      ]
    },
    {
      "cell_type": "markdown",
      "metadata": {
        "id": "Z6XDDzg2NyZ9"
      },
      "source": [
        "##Fromkeys()\n",
        "Untuk menyalin elemen di dalam dictionary, namun dengan kunci(key) dan nilai(value) tertentu, dapat menggunakan fungsi **fromkeys()**\n",
        "\n"
      ]
    },
    {
      "cell_type": "code",
      "metadata": {
        "id": "_KqfaOR_OUCc",
        "colab": {
          "base_uri": "https://localhost:8080/"
        },
        "outputId": "832412b8-315d-4e8d-9d82-215ef047c765"
      },
      "source": [
        "dict= {'Universitas' : 'UAD' , 'Prodi' : 'Matematika' , 'Tahun' : 2018 , 1800015065 : 'NIM'}\n",
        "x = ('Universitas', 'Prodi')\n",
        "y = 0\n",
        "\n",
        "thisdict = dict.fromkeys(x, y)\n",
        "\n",
        "print(thisdict)"
      ],
      "execution_count": null,
      "outputs": [
        {
          "output_type": "stream",
          "text": [
            "{'Universitas': 0, 'Prodi': 0}\n"
          ],
          "name": "stdout"
        }
      ]
    },
    {
      "cell_type": "markdown",
      "metadata": {
        "id": "nl9ZkUY4gDRJ"
      },
      "source": [
        "## Get()"
      ]
    },
    {
      "cell_type": "code",
      "metadata": {
        "id": "u8CbPd6igFW9",
        "colab": {
          "base_uri": "https://localhost:8080/"
        },
        "outputId": "f5a52d7a-35f4-4fac-a269-0d4bd9471bd3"
      },
      "source": [
        "car =\t{\n",
        "  \"brand\": \"Ford\",\n",
        "  \"model\": \"Mustang\",\n",
        "  \"year\": 1964\n",
        "}\n",
        "\n",
        "print(car.get('model'))"
      ],
      "execution_count": null,
      "outputs": [
        {
          "output_type": "stream",
          "text": [
            "Mustang\n"
          ],
          "name": "stdout"
        }
      ]
    },
    {
      "cell_type": "markdown",
      "metadata": {
        "id": "IfzbaW4lgWTa"
      },
      "source": [
        "##Items()"
      ]
    },
    {
      "cell_type": "code",
      "metadata": {
        "id": "gn_kNd6lgYlv",
        "colab": {
          "base_uri": "https://localhost:8080/"
        },
        "outputId": "d1768ad3-f0d8-41c5-bb69-81dc4860a735"
      },
      "source": [
        "car =\t{\n",
        "  \"brand\": \"Ford\",\n",
        "  \"model\": \"Mustang\",\n",
        "  \"year\": 1964\n",
        "}\n",
        "\n",
        "print(car.items())"
      ],
      "execution_count": null,
      "outputs": [
        {
          "output_type": "stream",
          "text": [
            "dict_items([('brand', 'Ford'), ('model', 'Mustang'), ('year', 1964)])\n"
          ],
          "name": "stdout"
        }
      ]
    },
    {
      "cell_type": "markdown",
      "metadata": {
        "id": "SAp7WXAbU5Fn"
      },
      "source": [
        "##Pop()\n",
        "\n",
        "Menghapus item kunci sekaligus value yang disebutkan,mari kita lihat contohnya dibawah ini"
      ]
    },
    {
      "cell_type": "code",
      "metadata": {
        "id": "Rt8xRNXcVsSE",
        "colab": {
          "base_uri": "https://localhost:8080/"
        },
        "outputId": "86fcd255-7e98-4924-953d-dc9c551d4418"
      },
      "source": [
        "indoapril={'Barang':'Gundam','Merek':'Bandai','Jumlah':200}\n",
        "indoapril.pop('Barang')\n",
        "print(indoapril)"
      ],
      "execution_count": null,
      "outputs": [
        {
          "output_type": "stream",
          "text": [
            "{'Merek': 'Bandai', 'Jumlah': 200}\n"
          ],
          "name": "stdout"
        }
      ]
    },
    {
      "cell_type": "markdown",
      "metadata": {
        "id": "8VTYZPHvWphG"
      },
      "source": [
        "## Popitem()\n",
        "\n",
        "Menghapus item yang terakhir dimasukkan "
      ]
    },
    {
      "cell_type": "code",
      "metadata": {
        "id": "7Ko__9YSW0d3",
        "colab": {
          "base_uri": "https://localhost:8080/"
        },
        "outputId": "0e5dabf6-c2f2-4101-e1df-27c8a6bc3d6e"
      },
      "source": [
        "#Kita akan menghilangkan pelakor dalam \"kehidupan_keluarga\"\n",
        "kehidupan_keluarga={'suami':'Budi','istri':'Dewi','pelakor':'Sari'}\n",
        "kehidupan_keluarga.popitem()\n",
        "print(kehidupan_keluarga)"
      ],
      "execution_count": null,
      "outputs": [
        {
          "output_type": "stream",
          "text": [
            "{'suami': 'Budi', 'istri': 'Dewi'}\n"
          ],
          "name": "stdout"
        }
      ]
    },
    {
      "cell_type": "markdown",
      "metadata": {
        "id": "-Pa2ANcmYqn3"
      },
      "source": [
        "## Update()\n",
        "\n",
        "Menambahkan pasangan kunci yang diinginkan"
      ]
    },
    {
      "cell_type": "code",
      "metadata": {
        "id": "fGDs07Z5ZDTH",
        "colab": {
          "base_uri": "https://localhost:8080/"
        },
        "outputId": "e66e44e6-f14b-4358-c8c8-a32cf4e671ad"
      },
      "source": [
        "indoapril={'Barang':'Gundam','Merek':'Bandai','Jumlah':2000}\n",
        "indoapril.update({'Tanggal_Masuk': 12022020})\n",
        "print(indoapril)"
      ],
      "execution_count": null,
      "outputs": [
        {
          "output_type": "stream",
          "text": [
            "{'Barang': 'Gundam', 'Merek': 'Bandai', 'Jumlah': 2000, 'Tanggal_Masuk': 12022020}\n"
          ],
          "name": "stdout"
        }
      ]
    },
    {
      "cell_type": "markdown",
      "metadata": {
        "id": "Ezf7B8N5b0n9"
      },
      "source": [
        "## Values()\n",
        "\n",
        "Mengembalikan daftar nilai pada dictionary\n"
      ]
    },
    {
      "cell_type": "code",
      "metadata": {
        "id": "ka70siM6dsPq",
        "colab": {
          "base_uri": "https://localhost:8080/"
        },
        "outputId": "08f8d12f-e7c8-4c7e-8a17-72f2ac622e8a"
      },
      "source": [
        "indoapril={'Barang':'Gundam','Merek':'Bandai','Jumlah':200}\n",
        "a=indoapril.values()\n",
        "print(a)"
      ],
      "execution_count": null,
      "outputs": [
        {
          "output_type": "stream",
          "text": [
            "dict_values(['Gundam', 'Bandai', 200])\n"
          ],
          "name": "stdout"
        }
      ]
    },
    {
      "cell_type": "markdown",
      "metadata": {
        "id": "SrenDDAWgr7Z"
      },
      "source": [
        "## len()"
      ]
    },
    {
      "cell_type": "markdown",
      "metadata": {
        "id": "R_W396Mng7-8"
      },
      "source": [
        "Method len digunakan untuk mengetahui banyaknya item yang ada pada directory"
      ]
    },
    {
      "cell_type": "code",
      "metadata": {
        "id": "18YplPaigxog",
        "colab": {
          "base_uri": "https://localhost:8080/"
        },
        "outputId": "e13b484e-283b-48d1-86fe-7b4f407b11f0"
      },
      "source": [
        "car =\t{\n",
        "  \"brand\": \"Ford\",\n",
        "  \"model\": \"Mustang\",\n",
        "  \"year\": 1964\n",
        "}\n",
        "\n",
        "print(len(car))"
      ],
      "execution_count": null,
      "outputs": [
        {
          "output_type": "stream",
          "text": [
            "3\n"
          ],
          "name": "stdout"
        }
      ]
    },
    {
      "cell_type": "markdown",
      "metadata": {
        "id": "Wp4TnoFGQabX"
      },
      "source": [
        "#The End Of Notebook\n",
        "\n",
        "Alhamdulillah"
      ]
    }
  ]
}